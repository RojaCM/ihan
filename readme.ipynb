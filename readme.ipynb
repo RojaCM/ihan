{
 "cells": [
  {
   "cell_type": "markdown",
   "id": "5a678c8f-21b3-4d35-a5eb-07773051b118",
   "metadata": {
    "tags": []
   },
   "source": [
    "## Create unique index for all the types of medical code (diag, proc, revenue, and GPI) using the provided input training table:\n",
    "\n"
   ]
  },
  {
   "cell_type": "markdown",
   "id": "de157aa2-dc28-45a5-a6a9-4aa139e12a32",
   "metadata": {},
   "source": [
    "The final index table created will be used to generate the IHAN format training data and OOT (Out-of-Time) data.\n",
    "For the creation OOT modelling data,we will need to use the corresponding input training index table to create the IHAN format data.\n",
    "The final index table will also be used in the Interpretation part to retrieve the actual code and description of the code for the output table.\n"
   ]
  },
  {
   "cell_type": "markdown",
   "id": "2c6e5799-54f1-4f77-b5c8-f5b512b448d2",
   "metadata": {},
   "source": [
    "1.Update the ihan_preg_high_risk_mother_idx_dict_build_tbl.sh file:\n",
    "\n",
    "    a.Provide the correct Target (SQL filename : example ihan_preg_high_rsik_mother_idx_dict_build_tbl.sql ) properly.\n",
    "    b.If required, give a new log file name.\n",
    "    c.Provide the correct input parameters:\n",
    "        *iter: Specify the iteration version, for example, iter4_v1_training.\n",
    "\n",
    "        *input_tbl: Provide the input training table, for example, NON_CRTFD_AIFS.DL_TS_STAR.piad_tmp_wgs_cob_high_risk_mom_final_df_iter_4_v1_traning.\n",
    "        \n",
    "2.Enter the Snowflake password when prompted.\n",
    "\n",
    "3.Note down the generated final index table name\n",
    "\n",
    "Output: Final index table (ex :NON_CRTFD_AIFS.DL_TS_STAR.ihan_high_risk_preg_mother_medical_code_idx_final_iter4_v1_training)"
   ]
  },
  {
   "cell_type": "markdown",
   "id": "acd04690-21c0-4f22-89ce-e2e7cf660437",
   "metadata": {},
   "source": [
    "## ihan_preg_high_risk_mother_data_givenIndexTbl.sql (Explaining the steps involved in SQL code for Medical Code and Static Feature Extraction for Pregnancy High-Risk Prediction)\n",
    "\n",
    "1. Creation of Medical Diagnosis (DX) Code Table(&dx_t1)\n",
    "2. Creation of Procedure (PROC) Code Table (&proc_t1 )\n",
    "3. Creation of Revenue (RVNU) Code Table (&rvnu_t1)\n",
    "4. Creation of Medical RX (GPI) Code Table (&gpi_t1)\n",
    "5. Merging Diagnosis Codes (&dx_t1) and Index (&ihan_final_idx) to create &dx_t3\n",
    "6. Merging Procedure Codes (&proc_t1) and Index (&ihan_final_idx) to create &proc_t3\n",
    "7. Merging Revenue Codes (&rvnu_t1) and Index (&ihan_final_idx) to create &rvnu_t3\n",
    "8. Merging GPI Codes (&gpi_t1) and Index (&ihan_final_idx) to create &gpi_t3\n",
    "9. Creating Final Diagnosis, Procedure, Revenue, and GPI Code Tables\n",
    "10. Creating Static Feature along with Target and other features Table (&static_tbl)\n",
    "11. Merging All Tables (&ihan_tbl&iter) : The final step involves merging the static feature table (&static_tbl) with the four medical code tables (&final_dx_data, &final_proc_data, &final_rvnu_data, &final_gpi_data) to create a comprehensive table &ihan_tbl&iter.\n",
    "\n",
    "\n",
    "The final output of this sql script is the &ihan_tbl&iter table, which contains the complete set of features (static and medical codes) for each MCID, along with the target variable.\n"
   ]
  },
  {
   "cell_type": "markdown",
   "id": "ac1363ab-1231-4ccf-8392-1f4d4d59511f",
   "metadata": {},
   "source": [
    "## Create the training or OOT data in IHAN format using the generated index table"
   ]
  },
  {
   "cell_type": "markdown",
   "id": "6304507d-7d0a-4cde-9050-30d64988968c",
   "metadata": {},
   "source": [
    "1.Update the ihan_preg_high_risk_mother_data_givenIndexTbl.sh file:\n",
    "\n",
    "    a. Provide the correct Target (SQL filename : example ihan_preg_high_risk_mother_data_givenIndexTbl.sql) properly.\n",
    "    b. If required, give a new log file name.\n",
    "    c. Provide the correct input parameters:\n",
    "\n",
    "        1.iter: Specify the iteration version, for example, iter4_v1_training.\n",
    "        2.input_tbl: Provide the input training table name, for example: NON_CRTFD_AIFS.DL_TS_STAR.piad_tmp_wgs_cob_high_risk_mom_final_df_iter_4_v1_traning.\n",
    "        3.ihan_final_idx: Provide the training index table name, for example: NON_CRTFD_AIFS.DL_TS_STAR.ihan_high_risk_preg_mother_medical_code_idx_final_iter4_v1_training.\n",
    "    \n",
    "2.Enter the Snowflake password when prompted.\n",
    "\n",
    "3.Note down the generated input training table name or test table name.\n",
    "\n",
    "The script ihan_preg_high_risk_mother_data_givenIndexTbl.sh will generate the IHAN format training or test data table based on the provided index table.\n",
    "Make a note of the generated table name, as you will need to use it in the subsequent steps.\n",
    "\n",
    "Output : Training data or test data table\n",
    "\n",
    "Example : Training table : NON_CRTFD_AIFS.DL_TS_STAR.ihan_high_risk_preg_mother_final_data_iter_4_v1_training\n",
    "          \n",
    "          OOT table : NON_CRTFD_AIFS.DL_TS_STAR.ihan_high_risk_preg_mother_final_data_iter_4_v1_OOT\n",
    "          \n",
    " Columns :\n",
    " \n",
    "MCID : Subscrbier key \n",
    " \n",
    "Target : Target column\n",
    " \n",
    "Datlist1 & Dos1 - Diag medical code\n",
    "\n",
    "Datlist2 & Dos2 - Proc medical code\n",
    "\n",
    "Datlist3 & Dos3 - Revenue medical code\n",
    "\n",
    "Datlist4 & Dos4 - GPI medical code\n",
    "          "
   ]
  },
  {
   "cell_type": "markdown",
   "id": "969d6a9e-033a-4749-9269-9a3571981cea",
   "metadata": {},
   "source": [
    "## Input Data Preparation for IHAN Modeling (input_data_prep.ipynb)\n"
   ]
  },
  {
   "cell_type": "markdown",
   "id": "e9561099-173f-435f-9cf1-8328f7008146",
   "metadata": {},
   "source": [
    "1.Balancing the input data using a specified balance ratio.\n",
    "\n",
    "2.Splitting the balanced data into training, validation, and test sets based on the fraction variable .Save the train and validation files in csv format\n",
    "\n",
    "3.Save the OOT data in csv format\n",
    "\n",
    "4.Save the Dictionary Index Table in csv format .It can be used to interpret the model's outputs."
   ]
  },
  {
   "cell_type": "markdown",
   "id": "8c76cefd-100d-4dd1-ae52-92f48a9a9580",
   "metadata": {},
   "source": [
    "## High-Risk Newborn Mothers Prediction IHAN Model \n",
    "\n",
    "Example : ihan_binary_high_risk_preg_IHAN201.ipynb\n",
    "\n",
    "\n",
    "Interpretable Hierarchical Attention Network for Medical Condition Identification\n",
    "IHAN (Interpretable Hierarchical Attention Network) is a deep learning model we developed that can not only predict, but also interpret. IHAN uses a hierarchical attention structure that matches naturally with the medical history data structure and reflects patients’ encounter (date of service) sequence. The model attention structure consists of 3 levels: (1) attention on the medical code types (diagnosis codes, procedure codes, lab test results, and prescription drugs), (2) attention on the sequential medical encounters within a type, (3) attention on the individual medical codes within an encounter and type.\n",
    "\n",
    "The model uses the medical data at its most raw form, the sequentially ordered medical codes, without any further data aggregation, transformation, or mapping. This greatly simplifies data preparation process, mitigates chance for error and eliminates post modeling work needed for traditional model explanation, and more importantly, generates results that medical personal can appreciate.\n",
    "\n",
    "In V1, only sequential codes are allowed. In V2, we also allow sequential code-value pairs and static features\n",
    "\n",
    "\n",
    "\n",
    "#Python environment\n",
    "ihan_env.yml: the python environment file Create the same environment by running: conda env create -f ihan_env.yml"
   ]
  },
  {
   "cell_type": "markdown",
   "id": "2966c12b-5e4a-4bba-95d4-7230560a6f9d",
   "metadata": {},
   "source": [
    "1.Import the necessary packages\n",
    "\n",
    "2.Intialize the number of unique medical codes\n",
    "\n",
    "3.Load the train and validation data from the specified paths\n",
    "\n",
    "4.Set the training hyper parameters\n",
    "\n",
    "5.Train the model\n",
    "\n",
    "6.Evaluate on out-of-time (OOT) test data using trained model\n",
    "\n",
    "7.Interpret the model\n",
    "\n",
    "8.Save the interpretation results to Snowflake"
   ]
  },
  {
   "cell_type": "code",
   "execution_count": null,
   "id": "8742f99b-4797-4d48-b15f-3f85c37e5c81",
   "metadata": {},
   "outputs": [],
   "source": []
  }
 ],
 "metadata": {
  "kernelspec": {
   "display_name": "ihan_env",
   "language": "python",
   "name": "ihan_env"
  },
  "language_info": {
   "codemirror_mode": {
    "name": "ipython",
    "version": 3
   },
   "file_extension": ".py",
   "mimetype": "text/x-python",
   "name": "python",
   "nbconvert_exporter": "python",
   "pygments_lexer": "ipython3",
   "version": "3.11.3"
  }
 },
 "nbformat": 4,
 "nbformat_minor": 5
}
