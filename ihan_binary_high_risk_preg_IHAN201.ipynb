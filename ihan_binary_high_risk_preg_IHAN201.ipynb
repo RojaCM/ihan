{
 "cells": [
  {
   "cell_type": "code",
   "execution_count": null,
   "id": "2121c1a7-f056-4fc9-935c-e1bd0c2342fd",
   "metadata": {
    "tags": []
   },
   "outputs": [],
   "source": [
    "# Imports necessary libraries \n",
    "\n",
    "import time\n",
    "from datasets import load_dataset,DatasetDict, load_metric\n",
    "from torch.utils.data import DataLoader, Dataset\n",
    "from torch.utils.data.dataset import random_split\n",
    "from transformers import DataCollatorWithPadding,AutoModelForSequenceClassification \n",
    "from transformers import Trainer, TrainingArguments,AutoTokenizer,AutoModel,AutoConfig\n",
    "from transformers.modeling_outputs import TokenClassifierOutput\n",
    "import torch\n",
    "import torch.nn as nn\n",
    "import pandas as pd\n",
    "import numpy as np\n",
    "import pickle\n",
    "import json\n",
    "\n",
    "from transformers import AdamW,get_scheduler, get_linear_schedule_with_warmup\n",
    "from accelerate import Accelerator, DistributedType, notebook_launcher\n",
    "from accelerate.utils import set_seed\n",
    "import random\n",
    "import math\n",
    "import statistics\n",
    "import copy\n",
    "from functools import partial\n",
    "\n",
    "from ihan import *\n",
    "\n",
    "import os\n",
    "os.environ['CUDA_VISIBLE_DEVICES'] = \"1\"\n",
    "os.environ['CUDA_LAUNCH_BLOCKING'] = '1'\n",
    "#os.environ['KMP_DUPLICATE_LIB_OK']='True'"
   ]
  },
  {
   "cell_type": "code",
   "execution_count": null,
   "id": "842e7461-7df8-4d5e-b727-b8715bb3919f",
   "metadata": {},
   "outputs": [],
   "source": [
    "torch.cuda.empty_cache()\n",
    "!nvidia-smi"
   ]
  },
  {
   "cell_type": "markdown",
   "id": "69a98908-44a2-4449-bdee-5e9f5047cb47",
   "metadata": {},
   "source": [
    "## MODEL TRAINING"
   ]
  },
  {
   "cell_type": "code",
   "execution_count": null,
   "id": "c4971b63-ad27-495c-8ae8-d64a4c11ba78",
   "metadata": {},
   "outputs": [],
   "source": [
    "target=\"risk_level\"\n",
    "label = 'TARGET'\n",
    "\n",
    "\n",
    "# number of unique medical code type\n",
    "cd1 = 'diag'\n",
    "num_codes1 =  23086 + 1  \n",
    "cd2 = 'proc'\n",
    "num_codes2 = 8626 + 1\n",
    "cd3 = 'rvnu'\n",
    "num_codes3 = 398 + 1\n",
    "cd4 = 'gpi'\n",
    "num_codes4 = 91 + 1\n",
    "\n",
    "\n",
    "#Loads training and validation datasets from specified file paths.\n",
    "indir = '/home/jovyan/vol-2/Roja/ds-ihan/v2/high_cost_newborn_mothers_pred_ihan/iter4_v1_train_oot/'    #Where the original data files are\n",
    "outdir = '/home/jovyan/vol-2/Roja/ds-ihan/v2/high_cost_newborn_mothers_pred_ihan/iter4_v1_train_oot/output'    #Where the outputs (models, train/val/test data) are stored\n",
    "\n"
   ]
  },
  {
   "cell_type": "code",
   "execution_count": null,
   "id": "c4931e7b-232a-4f62-b60a-10c1a67cd866",
   "metadata": {},
   "outputs": [],
   "source": [
    "#Loads training and validation datasets from specified file paths.\n",
    "\n",
    "cols = ['MCID']+[label]+ ['DOS1', 'DATLIST1',\n",
    "       'DOS2', 'DATLIST2', 'DOS3', 'DATLIST3', 'DOS4', 'DATLIST4', 'BABY_BIRTH_DT', 'MOM_AGE','HIGH_RISK_PROC_CD_CNT',\n",
    "       'TRANSVAGINAL_SONOGRAMS', 'VASA_PRIVIA', 'ANATOMICAL_FETAL_SURVEY',\n",
    "       'MLTPL_GEST', 'EPILEPSY', 'SUM_INPATIENT_VISIT', 'BLOOD_PRESR',\n",
    "       'NT_TEST', 'COMPL_SMKNG_ALCHL', 'TRANSVAGINAL_ULTRASOUND_EXAM',\n",
    "       'NST_TEST', 'SUM_EMERGENCY_VISIT', 'PAID_9_MONTHS', 'DIABETES',\n",
    "       'INFERTILITY', 'PREECLAMPSIA', 'PAPP', 'HIGH_RISK_DIAG_CNT',\n",
    "       'DOPPLER_FLOW_STUDIES', 'IVF', 'COMPLICATIONS_MLTPL_GEST',\n",
    "       'TRANSCERVICAL_AND_TRANSABDOMINAL_CHORIONIC_VILLUS_SAMPLING',\n",
    "       'FETAL_ECHOCARDIOGRAPHY', 'ENDOMETROSIS', 'PCOS', 'AMNIOCENTESIS',\n",
    "       'SUM_OUTPATIENT_VISIT', 'GEST_DIABETES', 'HCG_SCREENING',\n",
    "       'PAID_12_MONTHS', 'PAID_6_MONTHS','PAID_3_MONTHS', 'CANCER_HIST_PRSNL', 'AFI_INDEX',\n",
    "       'GROWTH_RESTRICTION', 'OBESITY_HIGH_BMI', 'INFERTILITY_MEDICINE',\n",
    "       'CANCER_HIST_FAMLY', 'BPP_PROFILE']\n",
    "\n",
    "print(cols)\n",
    "                          \n",
    "fname = indir+'/train_data_iter4_v1'+\".csv\"\n",
    "print(fname)\n",
    "train_data = pd.read_csv(fname)[cols]\n",
    "\n",
    "fname = indir+'/val_data_iter4_v1'+\".csv\"\n",
    "print(fname)\n",
    "val_data = pd.read_csv(fname)[cols]\n",
    "\n",
    "print(train_data.shape, val_data.shape)\n",
    "print(\"model data size:\", len(train_data) + len(val_data))"
   ]
  },
  {
   "cell_type": "code",
   "execution_count": null,
   "id": "647e82a4-1bd5-44ca-b527-054699450fe6",
   "metadata": {},
   "outputs": [],
   "source": [
    "#set up for training\n",
    "##Model Training Configuration\n",
    "\n",
    "criterion = nn.BCELoss(reduction='mean')     #Binary Cross Entropy\n",
    "singleGPU=True\n",
    "batch_size = 32\n",
    "n_epochs = 20\n",
    "num_classes = 1\n",
    "num_heads = 1\n",
    "p_dropout=0.1\n",
    "task='binary'\n",
    "continueTrain = 2\n",
    "hiddenMethod = 'gru'"
   ]
  },
  {
   "cell_type": "markdown",
   "id": "67b02edb-b76c-4403-8054-48463a7fbe41",
   "metadata": {
    "tags": []
   },
   "source": [
    "## IHAN Model Training"
   ]
  },
  {
   "cell_type": "code",
   "execution_count": null,
   "id": "83cde3ff-37bc-4ad5-a52d-decaabe3205e",
   "metadata": {},
   "outputs": [],
   "source": [
    "cols_seqCode = ['DATLIST1','DATLIST2']  ## specify medical code columns\n",
    "cols_seqPair = []\n",
    "cols_statFeature = ['MOM_AGE']  ## static features\n",
    "\n",
    "num_seqs = len(cols_seqCode)\n",
    "num_seqPairs = 0 if cols_seqPair is None else len(cols_seqPair)\n",
    "num_static = 0 if cols_statFeature is None else len(cols_statFeature)\n",
    "statFeature = False if cols_statFeature is None else True\n",
    "print(num_seqs, num_seqPairs, num_static, statFeature)\n",
    "\n",
    "train_dataset = CustomDataset(train_data, tgt=label, cols_seqCode = cols_seqCode,\n",
    "                              cols_seqPair = cols_seqPair, cols_statFeature = cols_statFeature)\n",
    "val_dataset = CustomDataset(val_data, tgt=label, cols_seqCode = cols_seqCode,\n",
    "                              cols_seqPair = cols_seqPair, cols_statFeature = cols_statFeature)\n",
    "\n",
    "print(train_dataset, '\\n', val_dataset, '\\n')\n",
    "\n",
    "#specify the num_seqcode variables for the specified cols_seqCode\n",
    "model=CustomModel(num_classes,num_seqCode=[num_codes1,num_codes2], num_seqPair = [] , num_static=num_static, embedding_dim=128, hiddenMethod = hiddenMethod,num_heads = num_heads,p_dropout=p_dropout)\n",
    "print(model)\n",
    "\n",
    "optimizer = torch.optim.AdamW(model.parameters(), lr=5e-4)\n",
    "collate_fn_arg = partial(collate_fn, num_seq_vars=num_seqs, num_seqPairs_vars=num_seqPairs, statFeature=statFeature, max_ncodes_perVisit = 512)\n",
    "\n",
    "print(\"start training \")\n",
    "start_time = time.time()\n",
    "notebook_launcher(train, (model, train_dataset, val_dataset, batch_size, collate_fn_arg, criterion, optimizer, \n",
    "                                 n_epochs, outdir,singleGPU,task,continueTrain),num_processes=1) \n",
    "print(\"Training took (minutes): \", (time.time() - start_time)/60)"
   ]
  },
  {
   "cell_type": "markdown",
   "id": "65f8b714-84d6-45bd-b266-55143e35a416",
   "metadata": {},
   "source": [
    "## PREDICTION ON OOT TEST DATA"
   ]
  },
  {
   "cell_type": "code",
   "execution_count": null,
   "id": "98ea22a2-477b-4d6b-bb73-45c53f983418",
   "metadata": {},
   "outputs": [],
   "source": [
    "#read OOT file from the specified path\n",
    "dataFile = '/home/jovyan/vol-2/Roja/ds-ihan/v2/high_cost_newborn_mothers_pred_ihan/iter4_v1_train_oot/test_oot_iter_4_v1.csv'\n",
    "df = pd.read_csv(dataFile)\n",
    "print(df.shape)\n",
    "print(df.columns)"
   ]
  },
  {
   "cell_type": "code",
   "execution_count": null,
   "id": "b62ff01c-cfeb-4154-8938-c2baa77150fc",
   "metadata": {},
   "outputs": [],
   "source": [
    "#load the trained model\n",
    "modelFile = '/home/jovyan/vol-2/Roja/ds-ihan/v2/high_cost_newborn_mothers_pred_ihan/iter4_v1_train_oot/output/ihanModel_201_7epochs_auc0.89268_1731570392.sav'\n",
    "model = torch.load(modelFile, map_location=torch.device('cuda'))\n",
    "model.eval()"
   ]
  },
  {
   "cell_type": "code",
   "execution_count": null,
   "id": "2f4d9a9c-129f-423c-bbbc-24a0a529be50",
   "metadata": {},
   "outputs": [],
   "source": [
    "task = 'binary'\n",
    "batch_size = 16\n",
    "tgt ='TARGET'\n",
    "\n",
    "cols_seqCode = ['DATLIST1','DATLIST2'] # specify the medical codes columns\n",
    "cols_seqPair = []\n",
    "cols_statFeature = ['MOM_AGE']  #static features\n",
    "\n",
    "num_seqs = len(cols_seqCode)\n",
    "num_seqPairs = 0 if cols_seqPair is None else len(cols_seqPair)\n",
    "num_static = 0 if cols_statFeature is None else len(cols_statFeature)\n",
    "statFeature = False if cols_statFeature is None else True\n",
    "print(num_seqs, num_seqPairs, num_static, statFeature)\n",
    "\n",
    "ID='MCID'\n",
    "dos_cols=['DOS1', 'DOS2']  # medical codes DOS columns\n",
    "med_type = ['diag','proc']  # specify the medical code type\n",
    "dos_cols_p = []\n",
    "med_type_p = []\n",
    "cols_pairList = []\n",
    "\n",
    "interpret = False\n",
    "evaluation=True"
   ]
  },
  {
   "cell_type": "code",
   "execution_count": null,
   "id": "3fc1938a-61a3-489f-9ca7-9ae6383c7cda",
   "metadata": {},
   "outputs": [],
   "source": [
    "#prediction\n",
    "chunksize = 400\n",
    "pred_df=pred_datainchunks(model, dataFile, chunksize, ID, tgt,cols_seqCode,cols_seqPair,cols_statFeature,batch_size,interpret,task,dos_cols, med_type, dos_cols_p,med_type_p,cols_pairList,evaluation)"
   ]
  },
  {
   "cell_type": "markdown",
   "id": "1b8cee94-b875-41d0-80c2-7de96dcb082d",
   "metadata": {},
   "source": [
    "## Baby's born between JAN 2024 TO JUN 2024"
   ]
  },
  {
   "cell_type": "code",
   "execution_count": null,
   "id": "7517dd38-3ee2-4857-a0ca-a0e915cb3d84",
   "metadata": {},
   "outputs": [],
   "source": [
    "dataFile1 = '/home/jovyan/vol-2/Roja/ds-ihan/v2/high_cost_newborn_mothers_pred_ihan/iter4_v1_train_oot/test_oot_iter_4_v1_6mnth.csv'\n",
    "df = pd.read_csv(dataFile1)\n",
    "print(df.shape)\n",
    "print(df.columns)"
   ]
  },
  {
   "cell_type": "code",
   "execution_count": null,
   "id": "288eb5a0-2753-4a86-a796-584a098209ea",
   "metadata": {},
   "outputs": [],
   "source": [
    "#prediction\n",
    "chunksize = 400\n",
    "pred_df=pred_datainchunks(model, dataFile1, chunksize, ID, tgt,cols_seqCode,cols_seqPair,cols_statFeature,batch_size,interpret,task,dos_cols, med_type, dos_cols_p,med_type_p,cols_pairList,evaluation)"
   ]
  },
  {
   "cell_type": "markdown",
   "id": "ef79a131-00e9-44a6-a6a7-f8d00347f07a",
   "metadata": {},
   "source": [
    "## Baby's born between Jul 2024 TO sep 2024"
   ]
  },
  {
   "cell_type": "code",
   "execution_count": null,
   "id": "894adb75-8670-4daf-be10-93f26109b320",
   "metadata": {},
   "outputs": [],
   "source": [
    "#read the file from the specified both \n",
    "dataFile2 = '/home/jovyan/vol-2/Roja/ds-ihan/v2/high_cost_newborn_mothers_pred_ihan/iter4_v1_train_oot/test_oot_iter_4_v1_3mnth.csv'\n",
    "df = pd.read_csv(dataFile2)\n",
    "print(df.shape)\n",
    "print(df.columns)"
   ]
  },
  {
   "cell_type": "code",
   "execution_count": null,
   "id": "4a3b4412-5c60-447a-b57a-d06cfe960b3e",
   "metadata": {},
   "outputs": [],
   "source": [
    "#prediction\n",
    "chunksize = 400\n",
    "pred_df=pred_datainchunks(model, dataFile2, chunksize, ID, tgt,cols_seqCode,cols_seqPair,cols_statFeature,batch_size,interpret,task,dos_cols, med_type, dos_cols_p,med_type_p,cols_pairList,evaluation)"
   ]
  },
  {
   "cell_type": "markdown",
   "id": "4d8cf4c8-f2ed-43dd-9895-d48e1b08a920",
   "metadata": {},
   "source": [
    "## Interpretation on OOT data"
   ]
  },
  {
   "cell_type": "code",
   "execution_count": null,
   "id": "6e0f5dfe-7f6b-475f-85c2-736eaff3c5a0",
   "metadata": {},
   "outputs": [],
   "source": [
    "interpret = True\n",
    "evaluation=True"
   ]
  },
  {
   "cell_type": "code",
   "execution_count": null,
   "id": "b966db13-8584-4006-8944-95a308fbfc9b",
   "metadata": {},
   "outputs": [],
   "source": [
    "#interpretation\n",
    "chunksize = 400\n",
    "df_contribution, df_contribution_mcid_code_sum, df_contribution_code_summary = pred_datainchunks(model, dataFile, chunksize, ID, tgt,\n",
    "                    cols_seqCode,cols_seqPair,cols_statFeature,batch_size,interpret,task,\n",
    "                    dos_cols, med_type, dos_cols_p,med_type_p,cols_pairList,evaluation)"
   ]
  },
  {
   "cell_type": "code",
   "execution_count": null,
   "id": "7523f11a-5ee6-4c75-8f85-d31a401abe85",
   "metadata": {},
   "outputs": [],
   "source": [
    "df_contribution_code_summary"
   ]
  },
  {
   "cell_type": "markdown",
   "id": "c7ef6617-5bb0-4f6a-8943-e27cba580480",
   "metadata": {},
   "source": [
    "## read dict table"
   ]
  },
  {
   "cell_type": "code",
   "execution_count": null,
   "id": "e6386b9f-4da4-4280-acff-8e9abddaec46",
   "metadata": {},
   "outputs": [],
   "source": [
    "dict_data=pd.read_csv('dict_indx_desc.csv')"
   ]
  },
  {
   "cell_type": "code",
   "execution_count": null,
   "id": "1d65e97d-446e-4b29-b368-b601fcd56c39",
   "metadata": {},
   "outputs": [],
   "source": [
    "dict_data.head()"
   ]
  },
  {
   "cell_type": "code",
   "execution_count": null,
   "id": "09769736-2f35-4dcd-a3ef-2d8c23f3c49c",
   "metadata": {},
   "outputs": [],
   "source": [
    "dict_data.isnull().sum()"
   ]
  },
  {
   "cell_type": "code",
   "execution_count": null,
   "id": "85012def-ba5e-46d9-a725-09a15dcbd787",
   "metadata": {},
   "outputs": [],
   "source": [
    "dict_data.info()"
   ]
  },
  {
   "cell_type": "code",
   "execution_count": null,
   "id": "652a1ac5-0be6-4512-908b-82c9fd1fa257",
   "metadata": {},
   "outputs": [],
   "source": [
    "dict_data['CD_TYPE'].value_counts()"
   ]
  },
  {
   "cell_type": "code",
   "execution_count": null,
   "id": "ca771716-79a6-4360-8a35-c35215969e62",
   "metadata": {},
   "outputs": [],
   "source": [
    "dict_data['CD_TYPE']=dict_data['CD_TYPE'].replace({'DIAG_CD':'diag','RVNU_CD':'rvnu','HLTH_SRVC_CD':'proc','GPI_02_GRP_CD':'gpi'})"
   ]
  },
  {
   "cell_type": "code",
   "execution_count": null,
   "id": "95ea2add-8b3a-4db4-9a57-13a6f2e8a2ed",
   "metadata": {},
   "outputs": [],
   "source": [
    "dict_data['CD_TYPE'].value_counts()"
   ]
  },
  {
   "cell_type": "markdown",
   "id": "733f31d6-d17c-47a7-8840-3691a7ac9c25",
   "metadata": {},
   "source": [
    "## create ranK for the medical code based on contribution coefficient score"
   ]
  },
  {
   "cell_type": "code",
   "execution_count": null,
   "id": "5df37505-899a-449b-8a0e-4ad004d9eec2",
   "metadata": {},
   "outputs": [],
   "source": [
    "df_contribution_code_summary=df_contribution_code_summary.sort_values(by='contribCoef',ascending=False).reset_index(drop=True).reset_index()\n",
    "df_contribution_code_summary['index']=df_contribution_code_summary['index']+1\n",
    "df_contribution_code_summary.rename(columns={'index':'rank'},inplace=True)\n",
    "df_contribution_code_summary.head()"
   ]
  },
  {
   "cell_type": "markdown",
   "id": "bfc02a10-9f27-4152-bc7b-c5e83ae5b46a",
   "metadata": {},
   "source": [
    "## top increasing and decreasing risk code"
   ]
  },
  {
   "cell_type": "code",
   "execution_count": null,
   "id": "dcfe064d-0f2e-442c-bd9c-cdcfdfb85a99",
   "metadata": {},
   "outputs": [],
   "source": [
    "# merge with dict table to get description and code for the medical code index"
   ]
  },
  {
   "cell_type": "code",
   "execution_count": null,
   "id": "e709884f-426a-49d7-bf88-2318b0a70ecc",
   "metadata": {},
   "outputs": [],
   "source": [
    "df_top=df_contribution_code_summary.sort_values(by='rank',ascending=True)\n",
    "df_top=df_top[df_top['count']>=5].reset_index(drop=True)\n",
    "df_merged_top=pd.merge(df_top,dict_data ,left_on=['codeIndex','type'],right_on=['IDX','CD_TYPE'],how='left')\n",
    "df_merged_top_code=df_merged_top[['rank','type','codeIndex','contribCoef','count','CD_VALUE','DESCRIPTION']]"
   ]
  },
  {
   "cell_type": "code",
   "execution_count": null,
   "id": "15e66889-cbea-4fae-8a52-2fa604f685e4",
   "metadata": {},
   "outputs": [],
   "source": [
    "df_merged_top_code.head()"
   ]
  },
  {
   "cell_type": "code",
   "execution_count": null,
   "id": "5147863d-afab-46b3-aeaa-c4665a4abc84",
   "metadata": {},
   "outputs": [],
   "source": [
    "#df_merged_top_code.to_csv('top_contribution_code_IHAN201.csv')"
   ]
  },
  {
   "cell_type": "code",
   "execution_count": null,
   "id": "90edf364-0976-4aba-9fcd-7e7985a0063a",
   "metadata": {},
   "outputs": [],
   "source": [
    "#bottom contribution code\n",
    "df_bottom =df_contribution_code_summary.sort_values(by='rank',ascending=False).reset_index(drop=True)\n",
    "df_bottom=df_bottom[df_bottom['count']>=5]\n",
    "df_merged_bottom=pd.merge(df_bottom,dict_data ,left_on=['codeIndex','type'],right_on=['IDX','CD_TYPE'],how='left')\n",
    "df_merged_bottom_code=df_merged_bottom[['rank','type','codeIndex','contribCoef','count','CD_VALUE','DESCRIPTION']]"
   ]
  },
  {
   "cell_type": "code",
   "execution_count": null,
   "id": "41e0bddf-1519-48bf-9d69-138ad73ac1f6",
   "metadata": {},
   "outputs": [],
   "source": [
    "#df_merged_bottom_code.to_csv('bottom_contribution_code_IHAN201.csv',index=False)"
   ]
  },
  {
   "cell_type": "markdown",
   "id": "1ba8753b-9a83-4e7d-a5d5-5d9a0f8d4610",
   "metadata": {},
   "source": []
  },
  {
   "cell_type": "markdown",
   "id": "ddfbdaa0-c8be-43d2-a48a-cfdb8e29cd68",
   "metadata": {},
   "source": [
    "## Merging interpretation result table and code dictionary index description table to get actual code and description for the medical code index"
   ]
  },
  {
   "cell_type": "code",
   "execution_count": null,
   "id": "addb60ff-f020-4bd1-b985-655f0ff241c8",
   "metadata": {},
   "outputs": [],
   "source": [
    "def idx2code_merge(df,dict_df,cols=['IDX','TYPE','VALUE','DESCRIPTION']):\n",
    "    dict_df.columns=['codeIndex','type','code','cd_desc']\n",
    "    df_static=df[df['type']=='static']\n",
    "    df_static['cd_desc']=df_static['codeIndex'].apply(lambda x: x)\n",
    "    df_static['code'] =  df_static['codeIndex'].apply(lambda x: x)\n",
    "    df_filter=df[~df['type'].isin(['static'])]\n",
    "    df_filter['codeIndex']=df_filter['codeIndex'].astype(int)\n",
    "    dict_df['codeIndex']=dict_df['codeIndex'].astype(int)\n",
    "    merged=df_filter.merge(dict_df,on=['type','codeIndex'],how='left')\n",
    "    df=pd.concat([merged,df_static],ignore_index=True)\n",
    "    return df"
   ]
  },
  {
   "cell_type": "code",
   "execution_count": null,
   "id": "2c8153da-330c-499a-a2c6-7c27da900a8e",
   "metadata": {},
   "outputs": [],
   "source": [
    "df_merged=idx2code_merge(df_contribution,dict_data,cols=['IDX','CD_TYPE','CD_VALUE','DESCRIPTION'])"
   ]
  },
  {
   "cell_type": "code",
   "execution_count": null,
   "id": "01419527-f408-488b-9710-a18b4c80f0f7",
   "metadata": {},
   "outputs": [],
   "source": [
    "df_merged.columns"
   ]
  },
  {
   "cell_type": "code",
   "execution_count": null,
   "id": "4b5d4165-df4f-4791-afbc-0dede3b6a702",
   "metadata": {},
   "outputs": [],
   "source": [
    "df_pred=df_merged[['mcid', 'y_obs', 'y_score', 'dos', 'contribCoef', 'type','value', 'code', 'cd_desc']]"
   ]
  },
  {
   "cell_type": "code",
   "execution_count": null,
   "id": "9c24a2eb-d381-4c98-8687-4d88c2d900de",
   "metadata": {},
   "outputs": [],
   "source": [
    "df_pred.head()"
   ]
  },
  {
   "cell_type": "code",
   "execution_count": null,
   "id": "9016d85f-8089-44dc-9461-c93cff1dc2ee",
   "metadata": {},
   "outputs": [],
   "source": [
    "df_pred['type'].value_counts()"
   ]
  },
  {
   "cell_type": "markdown",
   "id": "ec5d54a4-671e-4668-ae62-21ec079b3c23",
   "metadata": {},
   "source": [
    "## save interpretation result into snowflake table"
   ]
  },
  {
   "cell_type": "code",
   "execution_count": null,
   "id": "d8e6fa81-6779-42ca-9360-0c59fcc7e64c",
   "metadata": {},
   "outputs": [],
   "source": [
    "import pandas as pd\n",
    "import seaborn as sns\n",
    "import matplotlib.pyplot as plt\n",
    "import numpy as np\n",
    "from dateutil.relativedelta import relativedelta\n",
    "import snowflake.connector\n",
    "from snowflake.connector.pandas_tools import write_pandas\n",
    "import warnings\n",
    "# Ignore all warnings\n",
    "warnings.filterwarnings('ignore')\n",
    "\n",
    "import sys\n",
    "print(sys.version)\n",
    "\n",
    "# Establish snowflake connection\n",
    "conn = snowflake.connector.connect(\n",
    "    account = \"carelon-edaprod1.privatelink\",\n",
    "    user = \"HAID\",\n",
    "    password = \"PASSWORD\",\n",
    "    warehouse = \"DL_AIFS_STAR_USER_WH_L\",\n",
    "    database = \"NON_CRTFD_AIFS\",\n",
    "    schema = \"DL_TS_STAR\"\n",
    ")\n",
    "\n",
    "# Create a cursor object\n",
    "cursor = conn.cursor()"
   ]
  },
  {
   "cell_type": "code",
   "execution_count": null,
   "id": "bdc81851-c54c-42e4-a8a4-8dc11b0bebb4",
   "metadata": {},
   "outputs": [],
   "source": [
    "test_table_nogbd='NON_CRTFD_AIFS.DL_TS_STAR.HIGH_RISK_NEWBORNS_MOTHER_OOT_TEST_SCORE_ITER4_V1_IHAN201'\n",
    "query = \"\"\"\n",
    "DROP TABLE IF EXISTS {0}\n",
    "\"\"\".format(test_table_nogbd)\n",
    "print(query)\n",
    "cursor.execute(query)"
   ]
  },
  {
   "cell_type": "code",
   "execution_count": null,
   "id": "8bfb2e4d-fe3c-41fe-800f-d81c05c49a8f",
   "metadata": {},
   "outputs": [],
   "source": [
    "#Write to snowflake table\n",
    "query = \"\"\"\n",
    "CREATE TABLE IF NOT EXISTS {0} \n",
    "(mcid STRING,y_obs NUMBER,y_score FLOAT,dos STRING,contribCoef FLOAT,type STRING,value FLOAT,code STRING,cd_desc STRING)\n",
    "\"\"\".format(test_table_nogbd)\n",
    "cursor.execute(query)\n",
    "success, nchunks, nrows, _ = write_pandas(conn, df_pred, test_table_nogbd, quote_identifiers=False)"
   ]
  },
  {
   "cell_type": "code",
   "execution_count": null,
   "id": "f4f70509-dbcd-4fff-aed8-0cfdca3536d2",
   "metadata": {},
   "outputs": [],
   "source": [
    "query=\"\"\"select * from NON_CRTFD_AIFS.DL_TS_STAR.HIGH_RISK_NEWBORNS_MOTHER_OOT_TEST_SCORE_ITER4_V1_IHAN201 LIMIT 5 \"\"\"\n",
    "data=pd.read_sql_query(query,conn)"
   ]
  },
  {
   "cell_type": "code",
   "execution_count": null,
   "id": "7c5a9fcf-be62-4736-afc2-24990162c45d",
   "metadata": {},
   "outputs": [],
   "source": [
    "data.head()"
   ]
  },
  {
   "cell_type": "code",
   "execution_count": null,
   "id": "d953f0cf-2865-488f-a9a2-ae52d6d20570",
   "metadata": {},
   "outputs": [],
   "source": []
  }
 ],
 "metadata": {
  "kernelspec": {
   "display_name": "ihan_env",
   "language": "python",
   "name": "ihan_env"
  },
  "language_info": {
   "codemirror_mode": {
    "name": "ipython",
    "version": 3
   },
   "file_extension": ".py",
   "mimetype": "text/x-python",
   "name": "python",
   "nbconvert_exporter": "python",
   "pygments_lexer": "ipython3",
   "version": "3.11.3"
  }
 },
 "nbformat": 4,
 "nbformat_minor": 5
}
