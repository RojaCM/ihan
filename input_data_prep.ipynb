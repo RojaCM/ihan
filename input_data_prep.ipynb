{
 "cells": [
  {
   "cell_type": "code",
   "execution_count": 1,
   "id": "0cbc71fe-d93d-47b6-a6e0-eaf79e4d8d7e",
   "metadata": {},
   "outputs": [
    {
     "name": "stdout",
     "output_type": "stream",
     "text": [
      "3.11.3 | packaged by conda-forge | (main, Apr  6 2023, 08:57:19) [GCC 11.3.0]\n"
     ]
    }
   ],
   "source": [
    "import pandas as pd\n",
    "import seaborn as sns\n",
    "import matplotlib.pyplot as plt\n",
    "import numpy as np\n",
    "import snowflake.connector\n",
    "from snowflake.connector.pandas_tools import write_pandas\n",
    "\n",
    "import sys\n",
    "print(sys.version)"
   ]
  },
  {
   "cell_type": "code",
   "execution_count": 2,
   "id": "bfb76288-7b43-4d19-910f-719fb8eeb797",
   "metadata": {},
   "outputs": [],
   "source": [
    "# Establish snowflake connection\n",
    "conn = snowflake.connector.connect(\n",
    "    account = \"carelon-edaprod1.privatelink\",\n",
    "    user = \"HAID\",\n",
    "    password = \"PASSWORD\",\n",
    "    warehouse = \"DL_AIFS_STAR_USER_WH_L\",\n",
    "    database = \"NON_CRTFD_AIFS\",\n",
    "    schema = \"DL_TS_STAR\"\n",
    ")\n",
    "\n",
    "# Create a cursor object\n",
    "cursor = conn.cursor()"
   ]
  },
  {
   "cell_type": "code",
   "execution_count": 3,
   "id": "d0ac2c40-c228-4fea-a35e-39a891532484",
   "metadata": {},
   "outputs": [],
   "source": [
    "#input training table\n",
    "query=\"\"\"select * from NON_CRTFD_AIFS.DL_TS_STAR.ihan_high_risk_preg_mother_final_data_iter_4_v1_training\"\"\""
   ]
  },
  {
   "cell_type": "code",
   "execution_count": 4,
   "id": "bd0e370c-8078-4d8e-a731-410dc3ebca45",
   "metadata": {},
   "outputs": [
    {
     "name": "stderr",
     "output_type": "stream",
     "text": [
      "/home/jovyan/tmp/ipykernel_26166/2455608665.py:1: UserWarning: pandas only supports SQLAlchemy connectable (engine/connection) or database string URI or sqlite3 DBAPI2 connection. Other DBAPI2 objects are not tested. Please consider using SQLAlchemy.\n",
      "  df=pd.read_sql_query(query,conn)\n"
     ]
    },
    {
     "name": "stdout",
     "output_type": "stream",
     "text": [
      "(356891, 52)\n"
     ]
    },
    {
     "data": {
      "text/html": [
       "<div>\n",
       "<style scoped>\n",
       "    .dataframe tbody tr th:only-of-type {\n",
       "        vertical-align: middle;\n",
       "    }\n",
       "\n",
       "    .dataframe tbody tr th {\n",
       "        vertical-align: top;\n",
       "    }\n",
       "\n",
       "    .dataframe thead th {\n",
       "        text-align: right;\n",
       "    }\n",
       "</style>\n",
       "<table border=\"1\" class=\"dataframe\">\n",
       "  <thead>\n",
       "    <tr style=\"text-align: right;\">\n",
       "      <th></th>\n",
       "      <th>MCID</th>\n",
       "      <th>BABY_BIRTH_DT</th>\n",
       "      <th>MOM_AGE</th>\n",
       "      <th>TARGET</th>\n",
       "      <th>HIGH_RISK_PROC_CD_CNT</th>\n",
       "      <th>TRANSVAGINAL_SONOGRAMS</th>\n",
       "      <th>VASA_PRIVIA</th>\n",
       "      <th>ANATOMICAL_FETAL_SURVEY</th>\n",
       "      <th>MLTPL_GEST</th>\n",
       "      <th>EPILEPSY</th>\n",
       "      <th>...</th>\n",
       "      <th>BPP_PROFILE</th>\n",
       "      <th>PAID_3_MONTHS</th>\n",
       "      <th>DOS1</th>\n",
       "      <th>DATLIST1</th>\n",
       "      <th>DOS2</th>\n",
       "      <th>DATLIST2</th>\n",
       "      <th>DOS3</th>\n",
       "      <th>DATLIST3</th>\n",
       "      <th>DOS4</th>\n",
       "      <th>DATLIST4</th>\n",
       "    </tr>\n",
       "  </thead>\n",
       "  <tbody>\n",
       "    <tr>\n",
       "      <th>0</th>\n",
       "      <td>74691CE02F87A4D75F61272B93286993</td>\n",
       "      <td>2022-12-01</td>\n",
       "      <td>32</td>\n",
       "      <td>1</td>\n",
       "      <td>4</td>\n",
       "      <td>1</td>\n",
       "      <td>0</td>\n",
       "      <td>1</td>\n",
       "      <td>1</td>\n",
       "      <td>0</td>\n",
       "      <td>...</td>\n",
       "      <td>0</td>\n",
       "      <td>11201.24</td>\n",
       "      <td>['2021-08-14','2022-04-08','2022-05-12','2022-...</td>\n",
       "      <td>[[22068],[6744,13769,14111],[10614,22166],[221...</td>\n",
       "      <td>['2021-08-14','2022-04-08','2022-05-12','2022-...</td>\n",
       "      <td>[[8507,8509],[1559,5856],[3379,4019,4020,4142,...</td>\n",
       "      <td>['2022-08-04','2022-11-30']</td>\n",
       "      <td>[[174,217],[20,47,85,94,103,116,117,118,121,12...</td>\n",
       "      <td>[]</td>\n",
       "      <td>[]</td>\n",
       "    </tr>\n",
       "    <tr>\n",
       "      <th>1</th>\n",
       "      <td>93D9B8EAC3272EE1E85ACDE4544FE250</td>\n",
       "      <td>2022-11-14</td>\n",
       "      <td>34</td>\n",
       "      <td>0</td>\n",
       "      <td>5</td>\n",
       "      <td>0</td>\n",
       "      <td>1</td>\n",
       "      <td>1</td>\n",
       "      <td>1</td>\n",
       "      <td>0</td>\n",
       "      <td>...</td>\n",
       "      <td>1</td>\n",
       "      <td>17333.16</td>\n",
       "      <td>['2021-07-28','2021-12-06','2021-12-07','2022-...</td>\n",
       "      <td>[[21887,22694],[10942],[10531,10745,11480,1184...</td>\n",
       "      <td>['2021-07-28','2021-12-06','2021-12-07','2022-...</td>\n",
       "      <td>[[5949],[4299,4314,4614],[1718,3379,4299,5860]...</td>\n",
       "      <td>['2021-12-06','2021-12-07','2022-04-27','2022-...</td>\n",
       "      <td>[[116],[116],[116],[116],[116],[116],[18,85,11...</td>\n",
       "      <td>[]</td>\n",
       "      <td>[]</td>\n",
       "    </tr>\n",
       "    <tr>\n",
       "      <th>2</th>\n",
       "      <td>C1BB54BFB3AFA1DDEC3956DDF3B85AAE</td>\n",
       "      <td>2023-11-28</td>\n",
       "      <td>33</td>\n",
       "      <td>0</td>\n",
       "      <td>7</td>\n",
       "      <td>1</td>\n",
       "      <td>1</td>\n",
       "      <td>1</td>\n",
       "      <td>1</td>\n",
       "      <td>0</td>\n",
       "      <td>...</td>\n",
       "      <td>0</td>\n",
       "      <td>67558.09</td>\n",
       "      <td>['2022-04-08','2022-04-14','2022-04-15','2022-...</td>\n",
       "      <td>[[14125],[11152,11602,22008,22152],[1401,11603...</td>\n",
       "      <td>['2022-04-08','2022-04-14','2022-04-15','2022-...</td>\n",
       "      <td>[[5859],[3373,5635,5862,5964],[3382,3383,3384,...</td>\n",
       "      <td>['2022-04-20','2022-05-05','2023-05-08','2023-...</td>\n",
       "      <td>[[174,251],[85,103,116,118,121,122,127,151,154...</td>\n",
       "      <td>[]</td>\n",
       "      <td>[]</td>\n",
       "    </tr>\n",
       "    <tr>\n",
       "      <th>3</th>\n",
       "      <td>BA078AFF93F74487BF5FE7210EA0BEF2</td>\n",
       "      <td>2022-06-14</td>\n",
       "      <td>32</td>\n",
       "      <td>0</td>\n",
       "      <td>3</td>\n",
       "      <td>0</td>\n",
       "      <td>0</td>\n",
       "      <td>1</td>\n",
       "      <td>1</td>\n",
       "      <td>0</td>\n",
       "      <td>...</td>\n",
       "      <td>0</td>\n",
       "      <td>17322.57</td>\n",
       "      <td>['2022-01-13','2022-02-04','2022-03-21','2022-...</td>\n",
       "      <td>[[22179,22265],[22186,22192,22265],[22086,2227...</td>\n",
       "      <td>['2022-01-13','2022-02-04','2022-03-21','2022-...</td>\n",
       "      <td>[[3679,3943],[3371],[3679,4080,4264,4266,4315,...</td>\n",
       "      <td>['2022-02-04','2022-06-14']</td>\n",
       "      <td>[[174],[20,85,93,116,118,121,154,266,279]]</td>\n",
       "      <td>[]</td>\n",
       "      <td>[]</td>\n",
       "    </tr>\n",
       "    <tr>\n",
       "      <th>4</th>\n",
       "      <td>4B7D3E2701E886A3244298C18A4A4148</td>\n",
       "      <td>2023-08-05</td>\n",
       "      <td>42</td>\n",
       "      <td>0</td>\n",
       "      <td>9</td>\n",
       "      <td>1</td>\n",
       "      <td>0</td>\n",
       "      <td>1</td>\n",
       "      <td>1</td>\n",
       "      <td>1</td>\n",
       "      <td>...</td>\n",
       "      <td>1</td>\n",
       "      <td>21460.63</td>\n",
       "      <td>['2023-01-06','2023-02-01','2023-04-12','2023-...</td>\n",
       "      <td>[[10402,10560,22167],[22184],[22199,22269],[22...</td>\n",
       "      <td>['2023-01-06','2023-02-01','2023-04-12','2023-...</td>\n",
       "      <td>[[1718,3379,3559,4102,4590,4653,4654,4668,4763...</td>\n",
       "      <td>['2023-05-09','2023-08-03']</td>\n",
       "      <td>[[10,20,85,103,116,117,121,122,123,174,283],[1...</td>\n",
       "      <td>[]</td>\n",
       "      <td>[]</td>\n",
       "    </tr>\n",
       "  </tbody>\n",
       "</table>\n",
       "<p>5 rows × 52 columns</p>\n",
       "</div>"
      ],
      "text/plain": [
       "                               MCID BABY_BIRTH_DT  MOM_AGE  TARGET  \\\n",
       "0  74691CE02F87A4D75F61272B93286993    2022-12-01       32       1   \n",
       "1  93D9B8EAC3272EE1E85ACDE4544FE250    2022-11-14       34       0   \n",
       "2  C1BB54BFB3AFA1DDEC3956DDF3B85AAE    2023-11-28       33       0   \n",
       "3  BA078AFF93F74487BF5FE7210EA0BEF2    2022-06-14       32       0   \n",
       "4  4B7D3E2701E886A3244298C18A4A4148    2023-08-05       42       0   \n",
       "\n",
       "   HIGH_RISK_PROC_CD_CNT  TRANSVAGINAL_SONOGRAMS  VASA_PRIVIA  \\\n",
       "0                      4                       1            0   \n",
       "1                      5                       0            1   \n",
       "2                      7                       1            1   \n",
       "3                      3                       0            0   \n",
       "4                      9                       1            0   \n",
       "\n",
       "   ANATOMICAL_FETAL_SURVEY  MLTPL_GEST  EPILEPSY  ...  BPP_PROFILE  \\\n",
       "0                        1           1         0  ...            0   \n",
       "1                        1           1         0  ...            1   \n",
       "2                        1           1         0  ...            0   \n",
       "3                        1           1         0  ...            0   \n",
       "4                        1           1         1  ...            1   \n",
       "\n",
       "   PAID_3_MONTHS                                               DOS1  \\\n",
       "0       11201.24  ['2021-08-14','2022-04-08','2022-05-12','2022-...   \n",
       "1       17333.16  ['2021-07-28','2021-12-06','2021-12-07','2022-...   \n",
       "2       67558.09  ['2022-04-08','2022-04-14','2022-04-15','2022-...   \n",
       "3       17322.57  ['2022-01-13','2022-02-04','2022-03-21','2022-...   \n",
       "4       21460.63  ['2023-01-06','2023-02-01','2023-04-12','2023-...   \n",
       "\n",
       "                                            DATLIST1  \\\n",
       "0  [[22068],[6744,13769,14111],[10614,22166],[221...   \n",
       "1  [[21887,22694],[10942],[10531,10745,11480,1184...   \n",
       "2  [[14125],[11152,11602,22008,22152],[1401,11603...   \n",
       "3  [[22179,22265],[22186,22192,22265],[22086,2227...   \n",
       "4  [[10402,10560,22167],[22184],[22199,22269],[22...   \n",
       "\n",
       "                                                DOS2  \\\n",
       "0  ['2021-08-14','2022-04-08','2022-05-12','2022-...   \n",
       "1  ['2021-07-28','2021-12-06','2021-12-07','2022-...   \n",
       "2  ['2022-04-08','2022-04-14','2022-04-15','2022-...   \n",
       "3  ['2022-01-13','2022-02-04','2022-03-21','2022-...   \n",
       "4  ['2023-01-06','2023-02-01','2023-04-12','2023-...   \n",
       "\n",
       "                                            DATLIST2  \\\n",
       "0  [[8507,8509],[1559,5856],[3379,4019,4020,4142,...   \n",
       "1  [[5949],[4299,4314,4614],[1718,3379,4299,5860]...   \n",
       "2  [[5859],[3373,5635,5862,5964],[3382,3383,3384,...   \n",
       "3  [[3679,3943],[3371],[3679,4080,4264,4266,4315,...   \n",
       "4  [[1718,3379,3559,4102,4590,4653,4654,4668,4763...   \n",
       "\n",
       "                                                DOS3  \\\n",
       "0                        ['2022-08-04','2022-11-30']   \n",
       "1  ['2021-12-06','2021-12-07','2022-04-27','2022-...   \n",
       "2  ['2022-04-20','2022-05-05','2023-05-08','2023-...   \n",
       "3                        ['2022-02-04','2022-06-14']   \n",
       "4                        ['2023-05-09','2023-08-03']   \n",
       "\n",
       "                                            DATLIST3  DOS4  DATLIST4  \n",
       "0  [[174,217],[20,47,85,94,103,116,117,118,121,12...    []        []  \n",
       "1  [[116],[116],[116],[116],[116],[116],[18,85,11...    []        []  \n",
       "2  [[174,251],[85,103,116,118,121,122,127,151,154...    []        []  \n",
       "3         [[174],[20,85,93,116,118,121,154,266,279]]    []        []  \n",
       "4  [[10,20,85,103,116,117,121,122,123,174,283],[1...    []        []  \n",
       "\n",
       "[5 rows x 52 columns]"
      ]
     },
     "execution_count": 4,
     "metadata": {},
     "output_type": "execute_result"
    }
   ],
   "source": [
    "df=pd.read_sql_query(query,conn)\n",
    "print(df.shape)\n",
    "df.head()"
   ]
  },
  {
   "cell_type": "code",
   "execution_count": 5,
   "id": "b8f9c6d6-58db-4d8a-babd-b1e6a38efcf3",
   "metadata": {},
   "outputs": [
    {
     "data": {
      "text/plain": [
       "TARGET\n",
       "0    341449\n",
       "1     15442\n",
       "Name: count, dtype: int64"
      ]
     },
     "execution_count": 5,
     "metadata": {},
     "output_type": "execute_result"
    }
   ],
   "source": [
    "df['TARGET'].value_counts()"
   ]
  },
  {
   "cell_type": "markdown",
   "id": "592a636c-c1cf-4d37-ad07-552a0037fba0",
   "metadata": {},
   "source": [
    "## Balancing the data using balance ratio\n",
    "\n",
    "The input data has an imbalance between the target classes (0 and 1). To address this, the data is balanced using a specified balance ratio."
   ]
  },
  {
   "cell_type": "code",
   "execution_count": 6,
   "id": "41bd3660-c023-4d85-9c22-837c50d3eda8",
   "metadata": {},
   "outputs": [],
   "source": [
    "# The input data is divided into two groups based on the TARGET column\n",
    "df_tgt1=df[df['TARGET']==1]\n",
    "df_tgt0=df[df['TARGET']==0]\n"
   ]
  },
  {
   "cell_type": "markdown",
   "id": "4961ef16-cb39-4f13-974a-292821f1eb52",
   "metadata": {},
   "source": [
    "The balance ratio is set to 0.05 (5%), which means the number of target 0 samples should be 95% of the target 1 samples.\n",
    "\n",
    "The required number of target 0 samples to achieve the 95% balance ratio is calculated as follows:\n",
    "\n",
    "This ensures that the ratio of target 0 to target 1 samples is approximately 19:1."
   ]
  },
  {
   "cell_type": "code",
   "execution_count": 7,
   "id": "cfb9fee8-9728-42db-9143-e84a95feee76",
   "metadata": {},
   "outputs": [
    {
     "name": "stdout",
     "output_type": "stream",
     "text": [
      "293397\n"
     ]
    }
   ],
   "source": [
    "#balance_ratio \n",
    "balance=0.05 ##5%\n",
    "balanceNumber = int(len(df_tgt1)*((1-balance)/balance)) \n",
    "print(balanceNumber)"
   ]
  },
  {
   "cell_type": "markdown",
   "id": "25110ddd-7db7-468a-a480-f879d9908f8e",
   "metadata": {},
   "source": [
    "If the calculated balanceNumber exceeds the actual number of target 0 samples, the balanceNumber is set to the length of df_tgt0 to use all available target 0 samples."
   ]
  },
  {
   "cell_type": "code",
   "execution_count": 8,
   "id": "9b6b31a5-9d96-4d24-90b0-f4af9a6ea9d8",
   "metadata": {},
   "outputs": [
    {
     "name": "stdout",
     "output_type": "stream",
     "text": [
      "293397\n"
     ]
    }
   ],
   "source": [
    "if balanceNumber > len(df_tgt0):\n",
    "    balanceNumber = len(df_tgt0)\n",
    "\n",
    "print(balanceNumber)"
   ]
  },
  {
   "cell_type": "code",
   "execution_count": 9,
   "id": "f4cdb1d2-8006-4eeb-94d9-1be1525dc138",
   "metadata": {},
   "outputs": [],
   "source": [
    "df = df_tgt0.sample(frac = 1)  \n",
    "df = df.iloc[0:balanceNumber]   \n",
    "df = pd.concat([df, df_tgt1])     \n",
    "df = df.sample(frac=1)"
   ]
  },
  {
   "cell_type": "code",
   "execution_count": 10,
   "id": "0122a499-7916-4511-bf22-38aa8fdf87e2",
   "metadata": {},
   "outputs": [
    {
     "data": {
      "text/plain": [
       "(308839, 52)"
      ]
     },
     "execution_count": 10,
     "metadata": {},
     "output_type": "execute_result"
    }
   ],
   "source": [
    "df.shape"
   ]
  },
  {
   "cell_type": "markdown",
   "id": "1153de75-8c91-4e71-8b98-4ccdc25b3ea8",
   "metadata": {},
   "source": [
    "The balanced data is split into training, validation, and test sets using the returnTrainValTest function.\n",
    "\n",
    "The function takes the input data and the desired proportions for training (75%), validation (25%), and test (0%) sets.\n",
    "The training and validation sets are saved as CSV files."
   ]
  },
  {
   "cell_type": "code",
   "execution_count": 11,
   "id": "838cbab2-39e0-40a3-b2e5-c8b8e33ce6d5",
   "metadata": {},
   "outputs": [],
   "source": [
    "trainProp=.75\n",
    "valProp=.25\n",
    "testProp=0"
   ]
  },
  {
   "cell_type": "code",
   "execution_count": 12,
   "id": "92db357a-877e-4a39-9a18-a16edb7a9f9f",
   "metadata": {},
   "outputs": [],
   "source": [
    "# For ihan sequential codes\n",
    "def returnTrainValTest(inputDF,trainFrac, valFrac, testFrac):\n",
    "    trainLen = int(len(inputDF) * trainFrac)\n",
    "    valLen = int(len(inputDF)*(trainFrac+valFrac))\n",
    " \n",
    "    if trainFrac + valFrac + testFrac != 1:\n",
    "        raise Exception(\"The proportions of train, val, and test do not add up to 1\")\n",
    "    \n",
    "   \n",
    "    train_rtn = inputDF.iloc[0:trainLen]\n",
    "    val_rtn = inputDF.iloc[trainLen:valLen]\n",
    "    test_rtn = inputDF.iloc[valLen:]\n",
    "    return train_rtn, val_rtn, test_rtn"
   ]
  },
  {
   "cell_type": "code",
   "execution_count": 13,
   "id": "2413167a-4fdf-4e28-8fa8-1085183762a0",
   "metadata": {},
   "outputs": [],
   "source": [
    "train_data, val_data, test_data = returnTrainValTest(df,trainProp, valProp, testProp)"
   ]
  },
  {
   "cell_type": "code",
   "execution_count": 14,
   "id": "c3d8e06d-dc9c-44c2-9313-b7aa1223f230",
   "metadata": {},
   "outputs": [],
   "source": [
    "train_data.to_csv('train_data_iter4_v1.csv',index=False)\n",
    "val_data.to_csv('val_data_iter4_v1.csv',index=False)\n",
    "#test_data.to_csv('test_data.csv',index=False)"
   ]
  },
  {
   "cell_type": "code",
   "execution_count": 15,
   "id": "94638bd5-a502-47f2-9694-42a06770b780",
   "metadata": {},
   "outputs": [
    {
     "data": {
      "text/plain": [
       "((231629, 52), (77210, 52))"
      ]
     },
     "execution_count": 15,
     "metadata": {},
     "output_type": "execute_result"
    }
   ],
   "source": [
    "train_data.shape,val_data.shape"
   ]
  },
  {
   "cell_type": "code",
   "execution_count": 16,
   "id": "f5ed990a-e001-4966-83fa-0de076cf54c9",
   "metadata": {},
   "outputs": [
    {
     "data": {
      "text/plain": [
       "(308839, 52)"
      ]
     },
     "execution_count": 16,
     "metadata": {},
     "output_type": "execute_result"
    }
   ],
   "source": [
    "df.shape"
   ]
  },
  {
   "cell_type": "markdown",
   "id": "fa378acf-ce6a-4694-90fc-2f21a4d18dd1",
   "metadata": {},
   "source": [
    "##  Saving OOT DATA "
   ]
  },
  {
   "cell_type": "code",
   "execution_count": 17,
   "id": "5b5591d7-d289-484a-b52f-9bd7c48595e1",
   "metadata": {},
   "outputs": [],
   "source": [
    "#OOT table\n",
    "query=\"\"\"select * from NON_CRTFD_AIFS.DL_TS_STAR.ihan_high_risk_preg_mother_final_data_iter_4_v1_OOT\"\"\""
   ]
  },
  {
   "cell_type": "code",
   "execution_count": 18,
   "id": "ce5ad2d7-b809-4bb1-98a0-1f5197828d2e",
   "metadata": {},
   "outputs": [
    {
     "name": "stderr",
     "output_type": "stream",
     "text": [
      "/home/jovyan/tmp/ipykernel_26166/1665930981.py:1: UserWarning: pandas only supports SQLAlchemy connectable (engine/connection) or database string URI or sqlite3 DBAPI2 connection. Other DBAPI2 objects are not tested. Please consider using SQLAlchemy.\n",
      "  df_test=pd.read_sql_query(query,conn)\n"
     ]
    }
   ],
   "source": [
    "df_test=pd.read_sql_query(query,conn)"
   ]
  },
  {
   "cell_type": "code",
   "execution_count": 19,
   "id": "4668a973-851f-45ee-849e-33629be80665",
   "metadata": {},
   "outputs": [
    {
     "data": {
      "text/html": [
       "<div>\n",
       "<style scoped>\n",
       "    .dataframe tbody tr th:only-of-type {\n",
       "        vertical-align: middle;\n",
       "    }\n",
       "\n",
       "    .dataframe tbody tr th {\n",
       "        vertical-align: top;\n",
       "    }\n",
       "\n",
       "    .dataframe thead th {\n",
       "        text-align: right;\n",
       "    }\n",
       "</style>\n",
       "<table border=\"1\" class=\"dataframe\">\n",
       "  <thead>\n",
       "    <tr style=\"text-align: right;\">\n",
       "      <th></th>\n",
       "      <th>MCID</th>\n",
       "      <th>BABY_BIRTH_DT</th>\n",
       "      <th>MOM_AGE</th>\n",
       "      <th>TARGET</th>\n",
       "      <th>HIGH_RISK_PROC_CD_CNT</th>\n",
       "      <th>TRANSVAGINAL_SONOGRAMS</th>\n",
       "      <th>VASA_PRIVIA</th>\n",
       "      <th>ANATOMICAL_FETAL_SURVEY</th>\n",
       "      <th>MLTPL_GEST</th>\n",
       "      <th>EPILEPSY</th>\n",
       "      <th>...</th>\n",
       "      <th>BPP_PROFILE</th>\n",
       "      <th>PAID_3_MONTHS</th>\n",
       "      <th>DOS1</th>\n",
       "      <th>DATLIST1</th>\n",
       "      <th>DOS2</th>\n",
       "      <th>DATLIST2</th>\n",
       "      <th>DOS3</th>\n",
       "      <th>DATLIST3</th>\n",
       "      <th>DOS4</th>\n",
       "      <th>DATLIST4</th>\n",
       "    </tr>\n",
       "  </thead>\n",
       "  <tbody>\n",
       "    <tr>\n",
       "      <th>0</th>\n",
       "      <td>4D48957A617609FB57489210ADD43316</td>\n",
       "      <td>2024-01-26</td>\n",
       "      <td>28</td>\n",
       "      <td>0</td>\n",
       "      <td>6</td>\n",
       "      <td>1</td>\n",
       "      <td>1</td>\n",
       "      <td>1</td>\n",
       "      <td>1</td>\n",
       "      <td>0</td>\n",
       "      <td>...</td>\n",
       "      <td>1</td>\n",
       "      <td>19142.77</td>\n",
       "      <td>['2023-06-12','2023-06-27','2023-07-11','2023-...</td>\n",
       "      <td>[[22167],[22186,22187,22248],[10595,22191,2220...</td>\n",
       "      <td>['2023-06-12','2023-06-27','2023-07-11','2023-...</td>\n",
       "      <td>[[3379,3553,3554,3684,4102,4107,4266,4542,4543...</td>\n",
       "      <td>['2023-09-05','2023-09-28','2023-11-07','2023-...</td>\n",
       "      <td>[[174],[174],[174],[85,117,122,123,197],[174],...</td>\n",
       "      <td>[]</td>\n",
       "      <td>[]</td>\n",
       "    </tr>\n",
       "    <tr>\n",
       "      <th>1</th>\n",
       "      <td>435EB28E5772CB4C656A4F5ABEC50956</td>\n",
       "      <td>2024-08-07</td>\n",
       "      <td>28</td>\n",
       "      <td>0</td>\n",
       "      <td>5</td>\n",
       "      <td>1</td>\n",
       "      <td>0</td>\n",
       "      <td>1</td>\n",
       "      <td>1</td>\n",
       "      <td>1</td>\n",
       "      <td>...</td>\n",
       "      <td>0</td>\n",
       "      <td>6307.05</td>\n",
       "      <td>['2022-12-29','2023-01-02','2023-01-25','2023-...</td>\n",
       "      <td>[[3182],[2797,2811,2852],[2301,3181,22541,2265...</td>\n",
       "      <td>['2022-12-29','2023-01-02','2023-01-25','2023-...</td>\n",
       "      <td>[[3105,6416],[5115,5861],[383,1440,1486,1489,5...</td>\n",
       "      <td>['2024-02-12','2024-08-06']</td>\n",
       "      <td>[[97,117,121,124,197,266],[281]]</td>\n",
       "      <td>[]</td>\n",
       "      <td>[]</td>\n",
       "    </tr>\n",
       "    <tr>\n",
       "      <th>2</th>\n",
       "      <td>CA0C291B44176CA6153301F19D61F292</td>\n",
       "      <td>2024-04-02</td>\n",
       "      <td>37</td>\n",
       "      <td>0</td>\n",
       "      <td>3</td>\n",
       "      <td>1</td>\n",
       "      <td>0</td>\n",
       "      <td>1</td>\n",
       "      <td>1</td>\n",
       "      <td>0</td>\n",
       "      <td>...</td>\n",
       "      <td>1</td>\n",
       "      <td>38306.58</td>\n",
       "      <td>['2023-01-03','2023-09-27','2023-11-27','2023-...</td>\n",
       "      <td>[[13796,14060,14125,22067],[22210,22260],[1080...</td>\n",
       "      <td>['2023-01-03','2023-09-27','2023-11-27','2023-...</td>\n",
       "      <td>[[1718,3550,4171,4278,4314,4813,5821,5894,5895...</td>\n",
       "      <td>['2023-01-03','2023-09-27','2023-11-27','2023-...</td>\n",
       "      <td>[[85,116,117,121,122,197,266],[174],[174],[93,...</td>\n",
       "      <td>[]</td>\n",
       "      <td>[]</td>\n",
       "    </tr>\n",
       "    <tr>\n",
       "      <th>3</th>\n",
       "      <td>F3E5FA90C0340EAEB0BE5A8125689B24</td>\n",
       "      <td>2024-03-21</td>\n",
       "      <td>28</td>\n",
       "      <td>0</td>\n",
       "      <td>2</td>\n",
       "      <td>1</td>\n",
       "      <td>0</td>\n",
       "      <td>1</td>\n",
       "      <td>1</td>\n",
       "      <td>0</td>\n",
       "      <td>...</td>\n",
       "      <td>0</td>\n",
       "      <td>7742.72</td>\n",
       "      <td>['2023-02-08','2023-02-14','2023-02-27','2023-...</td>\n",
       "      <td>[[10632,10640,21887,21969,22530],[10632],[7007...</td>\n",
       "      <td>['2023-02-08','2023-02-14','2023-02-27','2023-...</td>\n",
       "      <td>[[4645,4687,4763,4802,4807,4823,4875,5860,5942...</td>\n",
       "      <td>['2023-02-14','2023-06-29','2023-10-25','2024-...</td>\n",
       "      <td>[[174],[85,116,125,154,276,288],[174],[182,186...</td>\n",
       "      <td>[]</td>\n",
       "      <td>[]</td>\n",
       "    </tr>\n",
       "    <tr>\n",
       "      <th>4</th>\n",
       "      <td>83E7A9AFC25B31179206F53E381D129B</td>\n",
       "      <td>2024-06-17</td>\n",
       "      <td>26</td>\n",
       "      <td>0</td>\n",
       "      <td>3</td>\n",
       "      <td>0</td>\n",
       "      <td>1</td>\n",
       "      <td>1</td>\n",
       "      <td>1</td>\n",
       "      <td>1</td>\n",
       "      <td>...</td>\n",
       "      <td>1</td>\n",
       "      <td>20240.49</td>\n",
       "      <td>['2024-04-02','2024-04-03','2024-04-05','2024-...</td>\n",
       "      <td>[[11856,12732,13838,21143,22275],[10834,12732,...</td>\n",
       "      <td>['2024-04-02','2024-04-03','2024-04-05','2024-...</td>\n",
       "      <td>[[3378,4314,4315,4360,4382,4393,4604,4613,4614...</td>\n",
       "      <td>['2024-04-02','2024-05-14','2024-05-29','2024-...</td>\n",
       "      <td>[[85,118,121,174,197,267,291],[174],[85,116,11...</td>\n",
       "      <td>['2024-03-11','2024-04-06','2024-05-16']</td>\n",
       "      <td>[[54],[54],[54]]</td>\n",
       "    </tr>\n",
       "  </tbody>\n",
       "</table>\n",
       "<p>5 rows × 52 columns</p>\n",
       "</div>"
      ],
      "text/plain": [
       "                               MCID BABY_BIRTH_DT  MOM_AGE  TARGET  \\\n",
       "0  4D48957A617609FB57489210ADD43316    2024-01-26       28       0   \n",
       "1  435EB28E5772CB4C656A4F5ABEC50956    2024-08-07       28       0   \n",
       "2  CA0C291B44176CA6153301F19D61F292    2024-04-02       37       0   \n",
       "3  F3E5FA90C0340EAEB0BE5A8125689B24    2024-03-21       28       0   \n",
       "4  83E7A9AFC25B31179206F53E381D129B    2024-06-17       26       0   \n",
       "\n",
       "   HIGH_RISK_PROC_CD_CNT  TRANSVAGINAL_SONOGRAMS  VASA_PRIVIA  \\\n",
       "0                      6                       1            1   \n",
       "1                      5                       1            0   \n",
       "2                      3                       1            0   \n",
       "3                      2                       1            0   \n",
       "4                      3                       0            1   \n",
       "\n",
       "   ANATOMICAL_FETAL_SURVEY  MLTPL_GEST  EPILEPSY  ...  BPP_PROFILE  \\\n",
       "0                        1           1         0  ...            1   \n",
       "1                        1           1         1  ...            0   \n",
       "2                        1           1         0  ...            1   \n",
       "3                        1           1         0  ...            0   \n",
       "4                        1           1         1  ...            1   \n",
       "\n",
       "   PAID_3_MONTHS                                               DOS1  \\\n",
       "0       19142.77  ['2023-06-12','2023-06-27','2023-07-11','2023-...   \n",
       "1        6307.05  ['2022-12-29','2023-01-02','2023-01-25','2023-...   \n",
       "2       38306.58  ['2023-01-03','2023-09-27','2023-11-27','2023-...   \n",
       "3        7742.72  ['2023-02-08','2023-02-14','2023-02-27','2023-...   \n",
       "4       20240.49  ['2024-04-02','2024-04-03','2024-04-05','2024-...   \n",
       "\n",
       "                                            DATLIST1  \\\n",
       "0  [[22167],[22186,22187,22248],[10595,22191,2220...   \n",
       "1  [[3182],[2797,2811,2852],[2301,3181,22541,2265...   \n",
       "2  [[13796,14060,14125,22067],[22210,22260],[1080...   \n",
       "3  [[10632,10640,21887,21969,22530],[10632],[7007...   \n",
       "4  [[11856,12732,13838,21143,22275],[10834,12732,...   \n",
       "\n",
       "                                                DOS2  \\\n",
       "0  ['2023-06-12','2023-06-27','2023-07-11','2023-...   \n",
       "1  ['2022-12-29','2023-01-02','2023-01-25','2023-...   \n",
       "2  ['2023-01-03','2023-09-27','2023-11-27','2023-...   \n",
       "3  ['2023-02-08','2023-02-14','2023-02-27','2023-...   \n",
       "4  ['2024-04-02','2024-04-03','2024-04-05','2024-...   \n",
       "\n",
       "                                            DATLIST2  \\\n",
       "0  [[3379,3553,3554,3684,4102,4107,4266,4542,4543...   \n",
       "1  [[3105,6416],[5115,5861],[383,1440,1486,1489,5...   \n",
       "2  [[1718,3550,4171,4278,4314,4813,5821,5894,5895...   \n",
       "3  [[4645,4687,4763,4802,4807,4823,4875,5860,5942...   \n",
       "4  [[3378,4314,4315,4360,4382,4393,4604,4613,4614...   \n",
       "\n",
       "                                                DOS3  \\\n",
       "0  ['2023-09-05','2023-09-28','2023-11-07','2023-...   \n",
       "1                        ['2024-02-12','2024-08-06']   \n",
       "2  ['2023-01-03','2023-09-27','2023-11-27','2023-...   \n",
       "3  ['2023-02-14','2023-06-29','2023-10-25','2024-...   \n",
       "4  ['2024-04-02','2024-05-14','2024-05-29','2024-...   \n",
       "\n",
       "                                            DATLIST3  \\\n",
       "0  [[174],[174],[174],[85,117,122,123,197],[174],...   \n",
       "1                   [[97,117,121,124,197,266],[281]]   \n",
       "2  [[85,116,117,121,122,197,266],[174],[174],[93,...   \n",
       "3  [[174],[85,116,125,154,276,288],[174],[182,186...   \n",
       "4  [[85,118,121,174,197,267,291],[174],[85,116,11...   \n",
       "\n",
       "                                       DOS4          DATLIST4  \n",
       "0                                        []                []  \n",
       "1                                        []                []  \n",
       "2                                        []                []  \n",
       "3                                        []                []  \n",
       "4  ['2024-03-11','2024-04-06','2024-05-16']  [[54],[54],[54]]  \n",
       "\n",
       "[5 rows x 52 columns]"
      ]
     },
     "execution_count": 19,
     "metadata": {},
     "output_type": "execute_result"
    }
   ],
   "source": [
    "df_test.head()"
   ]
  },
  {
   "cell_type": "code",
   "execution_count": 20,
   "id": "69fd7ac3-1ba1-4f47-974d-799414e4ad05",
   "metadata": {},
   "outputs": [
    {
     "data": {
      "text/plain": [
       "(131602, 52)"
      ]
     },
     "execution_count": 20,
     "metadata": {},
     "output_type": "execute_result"
    }
   ],
   "source": [
    "df_test.shape"
   ]
  },
  {
   "cell_type": "code",
   "execution_count": 21,
   "id": "edf32f18-4f28-465a-bdf0-adce132a19b2",
   "metadata": {},
   "outputs": [],
   "source": [
    "df_test.to_csv('test_oot_iter_4_v1.csv')"
   ]
  },
  {
   "cell_type": "markdown",
   "id": "c475ae0e-f6f5-4c6c-af5c-c1575309763f",
   "metadata": {},
   "source": [
    "## Additional Splits on OOT test data "
   ]
  },
  {
   "cell_type": "code",
   "execution_count": 22,
   "id": "98281336-00d1-4ac2-88b7-a4b9bf6e48be",
   "metadata": {},
   "outputs": [],
   "source": [
    "df_test['BABY_BIRTH_DT']=pd.to_datetime(df_test['BABY_BIRTH_DT'])\n",
    "#test_data['BABY_DOB']==1 ===> baby's born before June 2024 .0 means baby's born after jun2024 to sep 2024\n",
    "df_test['BABY_DOB']=(df_test['BABY_BIRTH_DT'] <= pd.to_datetime('2024-06-30', format='%Y-%m-%d')).astype(int)"
   ]
  },
  {
   "cell_type": "code",
   "execution_count": 23,
   "id": "c525cc52-50df-4cf3-80bd-d3c45b443669",
   "metadata": {},
   "outputs": [
    {
     "data": {
      "text/plain": [
       "(87437, 53)"
      ]
     },
     "execution_count": 23,
     "metadata": {},
     "output_type": "execute_result"
    }
   ],
   "source": [
    "#baby's born between jan to jun 2024\n",
    "df_test_1=df_test[df_test['BABY_DOB']==1]\n",
    "df_test_1.shape"
   ]
  },
  {
   "cell_type": "code",
   "execution_count": 24,
   "id": "2cf61524-5376-4dad-bb3e-d1928bafecb2",
   "metadata": {},
   "outputs": [],
   "source": [
    "df_test_1.to_csv('test_oot_iter_4_v1_6mnth.csv',index=False)"
   ]
  },
  {
   "cell_type": "code",
   "execution_count": 25,
   "id": "a08954b7-6284-4d25-990f-59b99c6fea8a",
   "metadata": {},
   "outputs": [
    {
     "data": {
      "text/plain": [
       "(44165, 53)"
      ]
     },
     "execution_count": 25,
     "metadata": {},
     "output_type": "execute_result"
    }
   ],
   "source": [
    "#baby's born between JUL to SEP 2024\n",
    "df_test_2=df_test[df_test['BABY_DOB']==0]\n",
    "df_test_2.shape"
   ]
  },
  {
   "cell_type": "code",
   "execution_count": 26,
   "id": "0e22b2ac-d60d-46f9-a121-c411c1134b6a",
   "metadata": {},
   "outputs": [],
   "source": [
    "df_test_2.to_csv('test_oot_iter_4_v1_3mnth.csv',index=False)"
   ]
  },
  {
   "cell_type": "markdown",
   "id": "f8749606-da10-4474-94fa-f8358746215f",
   "metadata": {},
   "source": [
    "## dictionary index table with description"
   ]
  },
  {
   "cell_type": "code",
   "execution_count": 27,
   "id": "6caf9077-497a-42c4-ad2d-892b6cbaed92",
   "metadata": {},
   "outputs": [],
   "source": [
    "query=\"\"\"select * from NON_CRTFD_AIFS.DL_TS_STAR.ihan_high_risk_preg_mother_medical_code_idx_final_iter_4_v1_training\"\"\""
   ]
  },
  {
   "cell_type": "code",
   "execution_count": 28,
   "id": "bc43d5a2-0691-4442-b856-eafc11f89300",
   "metadata": {},
   "outputs": [
    {
     "name": "stderr",
     "output_type": "stream",
     "text": [
      "/home/jovyan/tmp/ipykernel_26166/2567475494.py:1: UserWarning: pandas only supports SQLAlchemy connectable (engine/connection) or database string URI or sqlite3 DBAPI2 connection. Other DBAPI2 objects are not tested. Please consider using SQLAlchemy.\n",
      "  df_dict=pd.read_sql_query(query,conn)\n"
     ]
    }
   ],
   "source": [
    "df_dict=pd.read_sql_query(query,conn)"
   ]
  },
  {
   "cell_type": "code",
   "execution_count": 29,
   "id": "a6449d76-a6d9-4a18-bdeb-07d8d08299e6",
   "metadata": {},
   "outputs": [
    {
     "data": {
      "text/html": [
       "<div>\n",
       "<style scoped>\n",
       "    .dataframe tbody tr th:only-of-type {\n",
       "        vertical-align: middle;\n",
       "    }\n",
       "\n",
       "    .dataframe tbody tr th {\n",
       "        vertical-align: top;\n",
       "    }\n",
       "\n",
       "    .dataframe thead th {\n",
       "        text-align: right;\n",
       "    }\n",
       "</style>\n",
       "<table border=\"1\" class=\"dataframe\">\n",
       "  <thead>\n",
       "    <tr style=\"text-align: right;\">\n",
       "      <th></th>\n",
       "      <th>IDX</th>\n",
       "      <th>CD_TYPE</th>\n",
       "      <th>CD_VALUE</th>\n",
       "      <th>DESCRIPTION</th>\n",
       "    </tr>\n",
       "  </thead>\n",
       "  <tbody>\n",
       "    <tr>\n",
       "      <th>0</th>\n",
       "      <td>8914</td>\n",
       "      <td>DIAG_CD</td>\n",
       "      <td>M4722</td>\n",
       "      <td>Other spondylosis with radiculopathy, cervical...</td>\n",
       "    </tr>\n",
       "    <tr>\n",
       "      <th>1</th>\n",
       "      <td>2646</td>\n",
       "      <td>HLTH_SRVC_CD</td>\n",
       "      <td>59620</td>\n",
       "      <td>Cesarean delivery only, following attempted va...</td>\n",
       "    </tr>\n",
       "    <tr>\n",
       "      <th>2</th>\n",
       "      <td>10039</td>\n",
       "      <td>DIAG_CD</td>\n",
       "      <td>M9906</td>\n",
       "      <td>Segmental and somatic dysfunction of lower ext...</td>\n",
       "    </tr>\n",
       "    <tr>\n",
       "      <th>3</th>\n",
       "      <td>4772</td>\n",
       "      <td>HLTH_SRVC_CD</td>\n",
       "      <td>87502</td>\n",
       "      <td>Infectious agent detection by nucleic acid (DN...</td>\n",
       "    </tr>\n",
       "    <tr>\n",
       "      <th>4</th>\n",
       "      <td>5485</td>\n",
       "      <td>DIAG_CD</td>\n",
       "      <td>H903</td>\n",
       "      <td>Sensorineural hearing loss, bilateral</td>\n",
       "    </tr>\n",
       "  </tbody>\n",
       "</table>\n",
       "</div>"
      ],
      "text/plain": [
       "     IDX       CD_TYPE CD_VALUE  \\\n",
       "0   8914       DIAG_CD    M4722   \n",
       "1   2646  HLTH_SRVC_CD    59620   \n",
       "2  10039       DIAG_CD    M9906   \n",
       "3   4772  HLTH_SRVC_CD    87502   \n",
       "4   5485       DIAG_CD     H903   \n",
       "\n",
       "                                         DESCRIPTION  \n",
       "0  Other spondylosis with radiculopathy, cervical...  \n",
       "1  Cesarean delivery only, following attempted va...  \n",
       "2  Segmental and somatic dysfunction of lower ext...  \n",
       "3  Infectious agent detection by nucleic acid (DN...  \n",
       "4              Sensorineural hearing loss, bilateral  "
      ]
     },
     "execution_count": 29,
     "metadata": {},
     "output_type": "execute_result"
    }
   ],
   "source": [
    "df_dict.head()"
   ]
  },
  {
   "cell_type": "code",
   "execution_count": 30,
   "id": "081a711c-ee1d-44e5-b3bc-3051112e76a5",
   "metadata": {},
   "outputs": [],
   "source": [
    "df_dict.to_csv('dict_indx_desc.csv',index=False)"
   ]
  }
 ],
 "metadata": {
  "kernelspec": {
   "display_name": "ihan_env",
   "language": "python",
   "name": "ihan_env"
  },
  "language_info": {
   "codemirror_mode": {
    "name": "ipython",
    "version": 3
   },
   "file_extension": ".py",
   "mimetype": "text/x-python",
   "name": "python",
   "nbconvert_exporter": "python",
   "pygments_lexer": "ipython3",
   "version": "3.11.3"
  }
 },
 "nbformat": 4,
 "nbformat_minor": 5
}
