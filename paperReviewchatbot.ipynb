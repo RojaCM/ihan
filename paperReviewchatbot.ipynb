{
 "cells": [
  {
   "cell_type": "code",
   "execution_count": 1,
   "id": "60d1fac3-3121-4814-a891-48da7823cc5a",
   "metadata": {
    "tags": []
   },
   "outputs": [],
   "source": [
    "#import gradio as gr\n",
    "import os\n",
    "import time\n",
    "from crewai import Agent, Task, Crew, Process\n",
    "from crewai_tools import ScrapeWebsiteTool, SerperDevTool,WebsiteSearchTool\n",
    "from crewai_tools import tool\n",
    "from datetime import datetime\n",
    "\n",
    "#from docx import Document\n",
    "from io import BytesIO\n",
    "import base64\n",
    "\n",
    "import numpy as np\n",
    "import pandas as pd\n",
    "from IPython.display import Markdown, display\n",
    "\n",
    "from dotenv import load_dotenv\n",
    "#load_dotenv(\"./.env\")\n",
    "load_dotenv(\"/home/jovyan/Albert/.env\")\n",
    "\n",
    "os.environ[\"OPENAI_API_KEY\"] = os.environ.get(\"OPENAI_API_KEY\")\n",
    "os.environ[\"SLIP_AUTH_URL\"] = os.environ.get(\"SLIP_AUTH_URL\")\n",
    "os.environ[\"SLIP_USERNAME\"] = os.environ.get(\"SLIP_USERNAME\")\n",
    "os.environ[\"SLIP_PASSWORD\"] =  os.environ.get(\"SLIP_PASSWORD\")\n",
    "os.environ[\"SLIP_CLIENT_ID\"]= os.environ.get(\"SLIP_CLIENT_ID\")\n",
    "os.environ[\"SLIP_APP_NAME\"]=os.environ.get(\"SLIP_APP_NAME\")\n",
    "os.environ[\"SERPER_API_KEY\"] = \"25d43901c968b0f8830387b7ed72231673428b9c\""
   ]
  },
  {
   "cell_type": "code",
   "execution_count": 2,
   "id": "2d1db9a8-ed59-4ec2-b69a-31d9a7cf3d52",
   "metadata": {},
   "outputs": [],
   "source": [
    "from llm_utils import get_llm\n",
    "llm = get_llm('gpt-4o-0806',temperature=0)\n",
    "#from langchain_openai import ChatOpenAI\n",
    "#llm = ChatOpenAI(model=\"gpt-4o-0806\", temperature=0)"
   ]
  },
  {
   "cell_type": "code",
   "execution_count": 3,
   "id": "3aa4a37b-0e8d-4a26-b5dd-efc633b3e1c3",
   "metadata": {},
   "outputs": [],
   "source": [
    "search_tool = SerperDevTool()\n",
    "scrape_tool = ScrapeWebsiteTool()\n",
    "#web_rag_tool = WebsiteSearchTool()"
   ]
  },
  {
   "cell_type": "code",
   "execution_count": 5,
   "id": "9adf2221-b357-4124-af09-72afe173dcf4",
   "metadata": {},
   "outputs": [],
   "source": [
    "# Define the Intelligent Medical Chatbot Agent\n",
    "review_chatbot_agent = Agent(\n",
    "    role=\"Research Analyst\",\n",
    "    goal=\"Investigate and summarize on the latest advancements for {topic}.\",\n",
    "    #tools=[scrape_tool, search_tool, web_rag_tool],  \n",
    "    backstory=(\n",
    "        \"You are assisting a researcher to write an academic paper. You need to do literature Review in order to write 'background and related work' section of the paper.\"\n",
    "    ),\n",
    "    verbose=True,\n",
    "    allow_delegation=False,\n",
    "    tools=[search_tool, scrape_tool],\n",
    "    llm=llm\n",
    ")\n",
    "\n",
    "review_chatbot_task = Task(\n",
    "    description=(\n",
    "        \"Your task is to do literature Review for {topic}. Follow these guidelines:\\n\"\n",
    "        \"   - Utilize the search_tool or scrape_tool or web_rag_tool to gather relevant and up-to-date academic papers.\\n\"\n",
    "        \"   - Include the links of each paper, and the year of the paper.\"\n",
    "        \"   - Summarize the gathered information to write a literature review.\\n\"\n",
    "    ),\n",
    "    agent=review_chatbot_agent,\n",
    "    expected_output=(\n",
    "        \"- Write background and related work which is a general summary for {topic} based on all the papers.\"\n",
    "        \"- For each paper, please give the link of paper, year of publication, and detailed summary of the paper. \"\n",
    "    )\n",
    ")"
   ]
  },
  {
   "cell_type": "code",
   "execution_count": 6,
   "id": "25f1f92c-a115-4103-a3b5-0938a4211660",
   "metadata": {
    "tags": []
   },
   "outputs": [],
   "source": [
    "# review_chatbot_crew = Crew(agents=[review_chatbot_agent], tasks=[review_chatbot_task], verbose=True)    \n",
    "# inputs = {\n",
    "#     \"topic\": \"Interpretable Deep learning models for medical condition prediction using diagnosis, procedure, medication and lab codes\",\n",
    "# }\n",
    "# result = review_chatbot_crew.kickoff(inputs=inputs)"
   ]
  },
  {
   "cell_type": "code",
   "execution_count": 7,
   "id": "d158b0ae-4315-45d0-9ba9-ab84624f8b2c",
   "metadata": {},
   "outputs": [],
   "source": [
    "import re\n",
    "import base64\n",
    "from PIL import Image\n",
    "import io\n",
    "\n",
    "def chat(message, history):\n",
    "    review_chatbot_crew = Crew(agents=[review_chatbot_agent], tasks=[review_chatbot_task], verbose=True)\n",
    "    \n",
    "    response = review_chatbot_crew.kickoff({\"user_question\": message, \"History\": history})\n",
    "    \n",
    "    # Use regex to find all .png filenames in the saved_plots directory\n",
    "    image_paths = re.findall(r'saved_plots/[^()]+\\([^)]+\\)_\\d+_\\d+\\.png', response)\n",
    "    \n",
    "    if image_paths:\n",
    "        # Get the last image path (in case there are multiple)\n",
    "        print(image_paths)\n",
    "        image_path = image_paths[-1]\n",
    "        print(f\"Image path: {image_path}\")\n",
    "        \n",
    "        # Extract the text response by removing the image path\n",
    "        #text_response = response.replace(image_path, '').strip()\n",
    "        \n",
    "        try:\n",
    "            with Image.open(image_path) as img:\n",
    "                buffer = io.BytesIO()\n",
    "                img.save(buffer, format=\"PNG\")\n",
    "                encoded_image = base64.b64encode(buffer.getvalue()).decode()\n",
    "            \n",
    "            full_response = f\"{response}\\n\\nHere's the requested graph:\\n\\n![Lab Test Graph](data:image/png;base64,{encoded_image})\"\n",
    "            \n",
    "            history.append((message, full_response))\n",
    "        except Exception as e:\n",
    "            error_response = f\"An error occurred while processing the graph: {str(e)}\"\n",
    "            history.append((message, f\"{response}\\n\\n{error_response}\"))\n",
    "    else:\n",
    "        history.append((message, response))\n",
    "    \n",
    "    return \"\", history"
   ]
  },
  {
   "cell_type": "code",
   "execution_count": 8,
   "id": "9cb0ef18-ba26-40e8-8fca-65e581de0b47",
   "metadata": {},
   "outputs": [
    {
     "name": "stderr",
     "output_type": "stream",
     "text": [
      "/home/jovyan/envs/llm_agents/lib/python3.11/site-packages/tqdm/auto.py:21: TqdmWarning: IProgress not found. Please update jupyter and ipywidgets. See https://ipywidgets.readthedocs.io/en/stable/user_install.html\n",
      "  from .autonotebook import tqdm as notebook_tqdm\n",
      "/home/jovyan/envs/llm_agents/lib/python3.11/site-packages/gradio/components/chatbot.py:223: UserWarning: You have not specified a value for the `type` parameter. Defaulting to the 'tuples' format for chatbot messages, but this is deprecated and will be removed in a future version of Gradio. Please set type='messages' instead, which uses openai-style 'role' and 'content' keys.\n",
      "  warnings.warn(\n",
      "which: no node in (/home/jovyan/envs/llm_agents/bin:/miniconda3/condabin:/opt/mssql-tools/bin:/usr/local/apache-jmeter-5.4.3/bin:/usr/local/nvidia/bin:/usr/local/cuda/bin:/miniconda3/bin:/usr/lib/spark:/usr/lib/spark/bin:/usr/lib/jvm/java-1.8.0/bin:/usr/local/sbin:/usr/local/bin:/usr/sbin:/usr/bin:/sbin:/bin)\n"
     ]
    },
    {
     "name": "stdout",
     "output_type": "stream",
     "text": [
      "* Running on local URL:  http://127.0.0.1:7862\n",
      "* Running on public URL: https://7219bdaa902578413f.gradio.live\n",
      "\n",
      "This share link expires in 72 hours. For free permanent hosting and GPU upgrades, run `gradio deploy` from the terminal in the working directory to deploy to Hugging Face Spaces (https://huggingface.co/spaces)\n"
     ]
    },
    {
     "data": {
      "text/html": [
       "<div><iframe src=\"https://7219bdaa902578413f.gradio.live\" width=\"100%\" height=\"500\" allow=\"autoplay; camera; microphone; clipboard-read; clipboard-write;\" frameborder=\"0\" allowfullscreen></iframe></div>"
      ],
      "text/plain": [
       "<IPython.core.display.HTML object>"
      ]
     },
     "metadata": {},
     "output_type": "display_data"
    },
    {
     "data": {
      "text/plain": []
     },
     "execution_count": 8,
     "metadata": {},
     "output_type": "execute_result"
    },
    {
     "name": "stderr",
     "output_type": "stream",
     "text": [
      "Traceback (most recent call last):\n",
      "  File \"/home/jovyan/envs/llm_agents/lib/python3.11/site-packages/gradio/queueing.py\", line 624, in process_events\n",
      "    response = await route_utils.call_process_api(\n",
      "               ^^^^^^^^^^^^^^^^^^^^^^^^^^^^^^^^^^^\n",
      "  File \"/home/jovyan/envs/llm_agents/lib/python3.11/site-packages/gradio/route_utils.py\", line 323, in call_process_api\n",
      "    output = await app.get_blocks().process_api(\n",
      "             ^^^^^^^^^^^^^^^^^^^^^^^^^^^^^^^^^^^\n",
      "  File \"/home/jovyan/envs/llm_agents/lib/python3.11/site-packages/gradio/blocks.py\", line 2018, in process_api\n",
      "    result = await self.call_function(\n",
      "             ^^^^^^^^^^^^^^^^^^^^^^^^^\n",
      "  File \"/home/jovyan/envs/llm_agents/lib/python3.11/site-packages/gradio/blocks.py\", line 1567, in call_function\n",
      "    prediction = await anyio.to_thread.run_sync(  # type: ignore\n",
      "                 ^^^^^^^^^^^^^^^^^^^^^^^^^^^^^^^^^^^^^^^^^^^^^^^\n",
      "  File \"/home/jovyan/envs/llm_agents/lib/python3.11/site-packages/anyio/to_thread.py\", line 56, in run_sync\n",
      "    return await get_async_backend().run_sync_in_worker_thread(\n",
      "           ^^^^^^^^^^^^^^^^^^^^^^^^^^^^^^^^^^^^^^^^^^^^^^^^^^^^\n",
      "  File \"/home/jovyan/envs/llm_agents/lib/python3.11/site-packages/anyio/_backends/_asyncio.py\", line 2441, in run_sync_in_worker_thread\n",
      "    return await future\n",
      "           ^^^^^^^^^^^^\n",
      "  File \"/home/jovyan/envs/llm_agents/lib/python3.11/site-packages/anyio/_backends/_asyncio.py\", line 943, in run\n",
      "    result = context.run(func, *args)\n",
      "             ^^^^^^^^^^^^^^^^^^^^^^^^\n",
      "  File \"/home/jovyan/envs/llm_agents/lib/python3.11/site-packages/gradio/utils.py\", line 846, in wrapper\n",
      "    response = f(*args, **kwargs)\n",
      "               ^^^^^^^^^^^^^^^^^^\n",
      "  File \"/home/jovyan/tmp/ipykernel_173670/1843127357.py\", line 9, in chat\n",
      "    response = review_chatbot_crew.kickoff({\"user_question\": message, \"History\": history})\n",
      "               ^^^^^^^^^^^^^^^^^^^^^^^^^^^^^^^^^^^^^^^^^^^^^^^^^^^^^^^^^^^^^^^^^^^^^^^^^^^\n",
      "  File \"/home/jovyan/envs/llm_agents/lib/python3.11/site-packages/crewai/crew.py\", line 322, in kickoff\n",
      "    self._interpolate_inputs(inputs)  # type: ignore # Argument 1 to \"_interpolate_inputs\" of \"Crew\" has incompatible type \"dict[str, Any] | None\"; expected \"dict[str, Any]\"\n",
      "    ^^^^^^^^^^^^^^^^^^^^^^^^^^^^^^^^\n",
      "  File \"/home/jovyan/envs/llm_agents/lib/python3.11/site-packages/crewai/crew.py\", line 558, in _interpolate_inputs\n",
      "    [\n",
      "  File \"/home/jovyan/envs/llm_agents/lib/python3.11/site-packages/crewai/crew.py\", line 559, in <listcomp>\n",
      "    task.interpolate_inputs(\n",
      "  File \"/home/jovyan/envs/llm_agents/lib/python3.11/site-packages/crewai/task.py\", line 271, in interpolate_inputs\n",
      "    self.description = self._original_description.format(**inputs)\n",
      "                       ^^^^^^^^^^^^^^^^^^^^^^^^^^^^^^^^^^^^^^^^^^^\n",
      "KeyError: 'topic'\n"
     ]
    }
   ],
   "source": [
    "import gradio as gr\n",
    "\n",
    "css = \"\"\"\n",
    "h1 {\n",
    "    text-align: center;\n",
    "    display:block;\n",
    "}\n",
    "\"\"\"\n",
    "\n",
    "def create_patient_interface(num_patients):\n",
    "    with gr.Blocks(fill_height=True, fill_width=True, css=css, theme=gr.themes.Soft(primary_hue=gr.themes.colors.blue, secondary_hue=gr.themes.colors.sky)) as demo:\n",
    "        gr.Markdown(\"# Chat With Medical Records\")\n",
    "        gr.Markdown(\"Enter a member ID to get a detailed analysis of the patient's medical history.\")\n",
    "        \n",
    "        with gr.Column(scale=6):          \n",
    "            # Medical Chatbot Section - Outside of Patient Tabs\n",
    "            #gr.Markdown(\"## Medical Chatbot\")\n",
    "            with gr.TabItem(\"Medical Chatbot\"):\n",
    "                chatbot = gr.Chatbot(label=\"Medical Chatbot\", height=600)\n",
    "                msg = gr.Textbox(label=\"Ask a question\")\n",
    "                clear = gr.Button(\"Clear Chat\")\n",
    "\n",
    "            # Chatbot events\n",
    "            msg.submit(\n",
    "                fn=chat,  \n",
    "                inputs=[msg, chatbot], \n",
    "                outputs=[msg, chatbot]\n",
    "            )\n",
    "\n",
    "            clear.click(\n",
    "                lambda: None, \n",
    "                None, \n",
    "                chatbot, \n",
    "                queue=False\n",
    "            )\n",
    "\n",
    "        return demo\n",
    "\n",
    "# Create interface with 3 patients\n",
    "demo = create_patient_interface(2)\n",
    "demo.launch(share=True)"
   ]
  },
  {
   "cell_type": "code",
   "execution_count": null,
   "id": "997d094c-0b98-4520-98ea-93a8054457e4",
   "metadata": {},
   "outputs": [],
   "source": []
  },
  {
   "cell_type": "code",
   "execution_count": null,
   "id": "4bf4b96a-ee85-46f4-a384-932a555d6d72",
   "metadata": {},
   "outputs": [],
   "source": []
  },
  {
   "cell_type": "code",
   "execution_count": null,
   "id": "3f885b33-1cce-486c-9e48-fbe2f82b247e",
   "metadata": {},
   "outputs": [],
   "source": []
  },
  {
   "cell_type": "code",
   "execution_count": null,
   "id": "e8a0a679-ebe8-4fa2-bf74-a88a43b2e02c",
   "metadata": {},
   "outputs": [],
   "source": []
  }
 ],
 "metadata": {
  "kernelspec": {
   "display_name": "Python [conda env:jovyan-llm_agents]",
   "language": "python",
   "name": "conda-env-jovyan-llm_agents-py"
  },
  "language_info": {
   "codemirror_mode": {
    "name": "ipython",
    "version": 3
   },
   "file_extension": ".py",
   "mimetype": "text/x-python",
   "name": "python",
   "nbconvert_exporter": "python",
   "pygments_lexer": "ipython3",
   "version": "3.11.10"
  }
 },
 "nbformat": 4,
 "nbformat_minor": 5
}
