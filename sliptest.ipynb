{
 "cells": [
  {
   "cell_type": "code",
   "execution_count": 1,
   "id": "6ab38372-134f-4c90-8ee6-c27de4e102a9",
   "metadata": {},
   "outputs": [],
   "source": [
    "import os\n",
    "\n",
    "from dotenv import load_dotenv\n",
    "from slip.auth import get_auth\n",
    "from openai import OpenAI\n",
    "\n",
    "from llm_utils import get_llm\n",
    "\n",
    "from dotenv import load_dotenv\n",
    "#load_dotenv(\"/home/jovyan/vol-2/.env\")\n",
    "\n",
    "#os.environ[\"OPENAI_API_KEY\"] = os.environ.get(\"OPENAI_API_KEY\")\n",
    "os.environ[\"SLIP_AUTH_URL\"] = \"https://test.genai-platform.gateway.qft.gld-dig-anlinsig.awsdns.internal.das/sso/v2\"\n",
    "os.environ[\"SLIP_USERNAME\"] =\"AG14432\"\n",
    "os.environ[\"SLIP_PASSWORD\"] =\"s9h3c6k1F8&\"\n",
    "os.environ[\"SLIP_CLIENT_ID\"]= \"slip-user\"\n",
    "#os.environ[\"SLIP_APP_NAME\"]=\"slip-sandbox\""
   ]
  },
  {
   "cell_type": "code",
   "execution_count": 4,
   "id": "b6480450-f7e5-434f-b478-089c39ae4738",
   "metadata": {},
   "outputs": [],
   "source": [
    "BASE_URL = os.environ.get(\n",
    "    \"SLIP_BASE_URL\",\n",
    "    \"https://test.genai-platform.gateway.qft.gld-dig-anlinsig.awsdns.internal.das\",\n",
    ")\n",
    "CLIENT_URL = f\"{BASE_URL}/openai/v1\""
   ]
  },
  {
   "cell_type": "code",
   "execution_count": 6,
   "id": "1f53d5b4-bbe4-43a5-a6a6-919647e10a1d",
   "metadata": {},
   "outputs": [],
   "source": [
    "#check = get_llm(\"mistralai/Mixtral-8x7B-Instruct-v0.1\")"
   ]
  },
  {
   "cell_type": "code",
   "execution_count": 7,
   "id": "13283d9b-e55f-47fc-aaa5-10cc72c8fdfc",
   "metadata": {},
   "outputs": [],
   "source": [
    "slip_auth = get_auth(\n",
    "    login=True,\n",
    "    url=os.environ[\"SLIP_AUTH_URL\"],\n",
    "    password=os.environ[\"SLIP_PASSWORD\"],\n",
    "    username=os.environ[\"SLIP_USERNAME\"],\n",
    "    client_id=os.environ[\"SLIP_CLIENT_ID\"],\n",
    ")\n",
    "slip_auth.refresh()"
   ]
  },
  {
   "cell_type": "code",
   "execution_count": 8,
   "id": "9f1f6937-7144-45d7-abd2-61a8954a7162",
   "metadata": {},
   "outputs": [],
   "source": [
    "# slip_auth = get_auth(\n",
    "#     url=CLIENT_URL,\n",
    "# )\n",
    "# slip_auth.refresh()\n",
    "SLIP_API_KEY = slip_auth.get_headers()[\"Authorization\"].split(\"Bearer \")[-1]\n",
    "\n",
    "\n",
    "SLIP_APP_NAME = os.environ.get(\"SLIP_APP_NAME\", \"slip-sandbox\")\n",
    "\n",
    "client = OpenAI(\n",
    "    base_url=CLIENT_URL,\n",
    "    api_key=SLIP_API_KEY,\n",
    "    default_headers={\"Slip-App-Name\": SLIP_APP_NAME},\n",
    "    timeout=120,\n",
    ")\n"
   ]
  },
  {
   "cell_type": "code",
   "execution_count": 9,
   "id": "7cc51738-d18a-453d-a6f2-8ed6dac40f2a",
   "metadata": {},
   "outputs": [],
   "source": [
    "# Chat with Mistral 7B\n",
    "\n",
    "model_id = \"mistralai/Mistral-7B-Instruct-v0.2\"\n",
    "\n",
    "chat_mistral = client.chat.completions.create(\n",
    "    model=model_id,\n",
    "    messages=[\n",
    "        {\"role\": \"user\", \"content\": \"What is deep learning?\"},\n",
    "        {\n",
    "            \"role\": \"assistant\",\n",
    "            \"content\": \"Question: 'What is deep learning?'\\n\\nDeep learning is a subset of machine learning, which is a type of artificial intelligence.\",\n",
    "        },\n",
    "        {\"role\": \"user\", \"content\": \"Thanks! What is a Neural Network?\"},\n",
    "    ],\n",
    "    stream=True,\n",
    "    max_tokens=512,\n",
    ")"
   ]
  },
  {
   "cell_type": "code",
   "execution_count": 12,
   "id": "30072eb6-95ca-4ac0-a29a-cd8171ce80a0",
   "metadata": {},
   "outputs": [
    {
     "name": "stdout",
     "output_type": "stream",
     "text": [
      " A neural network is a type of deep learning model that is inspired by the structure and function of the human brain. Neural networks consist of interconnected nodes or \"neurons,\" modeled after the neurons in the brain, which process and transmit information. These networks can learn to recognize patterns and make decisions based on data. They are an essential component of deep learning and have achieved remarkable success in various applications such as image recognition, speech recognition, and natural language processing.\n",
      "\n",
      "Neural networks can come in different architectures, like feedforward neural networks, recurrent neural networks, convolutional neural networks, and others. Each type of network is designed to address specific types of data and modeling challenges.\n",
      "\n",
      "The term \"deep learning\" refers to neural networks with multiple hidden layers, which can learn and extract increasingly higher-level features from raw data, making them highly effective at recognizing complex patterns and making accurate predictions."
     ]
    }
   ],
   "source": [
    "# iterate and print stream\n",
    "out = []\n",
    "for message in chat_mistral:\n",
    "    content = message.choices[0].delta.content\n",
    "    print(content, end=\"\", flush=True)\n",
    "    out.append(content)"
   ]
  },
  {
   "cell_type": "code",
   "execution_count": null,
   "id": "e5330680-a055-4525-ba6d-43555e143cdb",
   "metadata": {},
   "outputs": [],
   "source": []
  }
 ],
 "metadata": {
  "kernelspec": {
   "display_name": "ChatWithMedicalRecords",
   "language": "python",
   "name": "chatwithmedicalrecords"
  },
  "language_info": {
   "codemirror_mode": {
    "name": "ipython",
    "version": 3
   },
   "file_extension": ".py",
   "mimetype": "text/x-python",
   "name": "python",
   "nbconvert_exporter": "python",
   "pygments_lexer": "ipython3",
   "version": "3.9.19"
  }
 },
 "nbformat": 4,
 "nbformat_minor": 5
}
