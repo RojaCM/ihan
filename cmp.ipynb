{
 "cells": [
  {
   "cell_type": "code",
   "execution_count": 1,
   "id": "70b895d0-3da2-451f-b5c9-87b1a7cb3d6f",
   "metadata": {},
   "outputs": [],
   "source": [
    "import pandas as pd"
   ]
  },
  {
   "cell_type": "code",
   "execution_count": 2,
   "id": "56021e6f-c55c-42f6-a7c9-251e01abe608",
   "metadata": {},
   "outputs": [],
   "source": [
    "df=pd.read_csv('/home/jovyan/vol-2/Roja/ds-ihan/v2/LLM_Agents/data/data_LLM.csv')"
   ]
  },
  {
   "cell_type": "code",
   "execution_count": 3,
   "id": "f3421492-a4cc-4c39-b64e-b055bbc9605a",
   "metadata": {},
   "outputs": [
    {
     "data": {
      "text/plain": [
       "(37684, 6)"
      ]
     },
     "execution_count": 3,
     "metadata": {},
     "output_type": "execute_result"
    }
   ],
   "source": [
    "df.shape"
   ]
  },
  {
   "cell_type": "code",
   "execution_count": 4,
   "id": "2a3107b7-549e-4bc3-b6dd-88b106724b18",
   "metadata": {},
   "outputs": [],
   "source": [
    "df1=df[df['id']==15]"
   ]
  },
  {
   "cell_type": "code",
   "execution_count": 5,
   "id": "db860dca-fb08-4abd-bce7-e3a4c6b50ab1",
   "metadata": {},
   "outputs": [],
   "source": [
    "df_diag=df1[df1['type']=='diag']"
   ]
  },
  {
   "cell_type": "code",
   "execution_count": 24,
   "id": "5aac2304-fbcd-4ca8-aa74-5a7d7592abe9",
   "metadata": {},
   "outputs": [
    {
     "data": {
      "text/html": [
       "<div>\n",
       "<style scoped>\n",
       "    .dataframe tbody tr th:only-of-type {\n",
       "        vertical-align: middle;\n",
       "    }\n",
       "\n",
       "    .dataframe tbody tr th {\n",
       "        vertical-align: top;\n",
       "    }\n",
       "\n",
       "    .dataframe thead th {\n",
       "        text-align: right;\n",
       "    }\n",
       "</style>\n",
       "<table border=\"1\" class=\"dataframe\">\n",
       "  <thead>\n",
       "    <tr style=\"text-align: right;\">\n",
       "      <th></th>\n",
       "      <th>id</th>\n",
       "      <th>dos</th>\n",
       "      <th>code</th>\n",
       "      <th>codeDesc</th>\n",
       "      <th>type</th>\n",
       "      <th>value</th>\n",
       "    </tr>\n",
       "  </thead>\n",
       "  <tbody>\n",
       "    <tr>\n",
       "      <th>2278</th>\n",
       "      <td>15</td>\n",
       "      <td>2019-03-20</td>\n",
       "      <td>R918</td>\n",
       "      <td>Other nonspecific abnormal finding of lung field</td>\n",
       "      <td>diag</td>\n",
       "      <td>NaN</td>\n",
       "    </tr>\n",
       "    <tr>\n",
       "      <th>2315</th>\n",
       "      <td>15</td>\n",
       "      <td>2019-07-08</td>\n",
       "      <td>R918</td>\n",
       "      <td>Other nonspecific abnormal finding of lung field</td>\n",
       "      <td>diag</td>\n",
       "      <td>NaN</td>\n",
       "    </tr>\n",
       "    <tr>\n",
       "      <th>2344</th>\n",
       "      <td>15</td>\n",
       "      <td>2019-10-09</td>\n",
       "      <td>R918</td>\n",
       "      <td>Other nonspecific abnormal finding of lung field</td>\n",
       "      <td>diag</td>\n",
       "      <td>NaN</td>\n",
       "    </tr>\n",
       "    <tr>\n",
       "      <th>2354</th>\n",
       "      <td>15</td>\n",
       "      <td>2019-12-12</td>\n",
       "      <td>R918</td>\n",
       "      <td>Other nonspecific abnormal finding of lung field</td>\n",
       "      <td>diag</td>\n",
       "      <td>NaN</td>\n",
       "    </tr>\n",
       "  </tbody>\n",
       "</table>\n",
       "</div>"
      ],
      "text/plain": [
       "      id         dos  code                                          codeDesc  \\\n",
       "2278  15  2019-03-20  R918  Other nonspecific abnormal finding of lung field   \n",
       "2315  15  2019-07-08  R918  Other nonspecific abnormal finding of lung field   \n",
       "2344  15  2019-10-09  R918  Other nonspecific abnormal finding of lung field   \n",
       "2354  15  2019-12-12  R918  Other nonspecific abnormal finding of lung field   \n",
       "\n",
       "      type  value  \n",
       "2278  diag    NaN  \n",
       "2315  diag    NaN  \n",
       "2344  diag    NaN  \n",
       "2354  diag    NaN  "
      ]
     },
     "execution_count": 24,
     "metadata": {},
     "output_type": "execute_result"
    }
   ],
   "source": [
    "df_diag[df_diag['code']=='R918']"
   ]
  },
  {
   "cell_type": "code",
   "execution_count": 6,
   "id": "389c0db5-b8fc-491b-9159-7d6a06faa40a",
   "metadata": {},
   "outputs": [],
   "source": [
    "df_proc=df1[df1['type']=='proc']"
   ]
  },
  {
   "cell_type": "code",
   "execution_count": 8,
   "id": "0db86fb7-7b18-4d87-851b-20fe0472d6e5",
   "metadata": {},
   "outputs": [],
   "source": [
    "df_rx=df1[df1['type']=='rx']"
   ]
  },
  {
   "cell_type": "code",
   "execution_count": 25,
   "id": "8b53d371-dbf1-4003-8929-4e8844142023",
   "metadata": {},
   "outputs": [],
   "source": [
    "df_lab=df1[df1['type']=='lab']"
   ]
  },
  {
   "cell_type": "code",
   "execution_count": null,
   "id": "f781a10a-a155-437f-ac8b-1a7d70eaf3e1",
   "metadata": {},
   "outputs": [],
   "source": [
    "Benzodiazepine Tests:\n",
    "\n",
    "clonazePAM Ur Cfm-mCnc (16229-7) in [2019-03-29:249.0,2019-08-26:292.0]\n",
    "clonazePAM Ur Ql (19245-0) in [2019-03-29:NaN,2019-08-26:NaN]\n",
    "Benzodiaz Ur Ql (3390-2) in [2019-03-29:NaN,2019-08-26:NaN]\n",
    "Temazepam Ur Ql Cfm (16206-5) in [2019-03-29:NaN,2019-08-26:NaN]\n",
    "Oxazepam Ur Ql (12361-2) in [2019-03-29:NaN,2019-08-26:NaN]\n",
    "Flurazepam Ur Ql (3654-1) in [2019-03-29:NaN,2019-08-26:NaN]\n",
    "Triazolam Ur Ql (14192-9) in [2019-03-29:NaN,2019-08-26:NaN]\n",
    "LORazepam Ur Ql (18187-5) in [2019-03-29:NaN,2019-08-26:NaN]\n",
    "Nordiazepam Ur Ql (3861-2) in [2019-03-29:NaN,2019-08-26:NaN]\n",
    "Alpraz Ur Ql (9351-8) in [2019-03-29:NaN,2019-08-26:NaN]\n",
    "Midazolam Ur Ql Cfm (19586-7) in [2019-03-29:NaN,2019-08-26:NaN]\n",
    "Other:\n",
    "\n",
    "Laboratory comment Report (77202-0) in [2019-03-29:NaN,2019-08-26:NaN]"
   ]
  },
  {
   "cell_type": "code",
   "execution_count": 37,
   "id": "15e292c5-7b23-456a-ad0b-055db3fdf4bc",
   "metadata": {},
   "outputs": [
    {
     "data": {
      "text/html": [
       "<div>\n",
       "<style scoped>\n",
       "    .dataframe tbody tr th:only-of-type {\n",
       "        vertical-align: middle;\n",
       "    }\n",
       "\n",
       "    .dataframe tbody tr th {\n",
       "        vertical-align: top;\n",
       "    }\n",
       "\n",
       "    .dataframe thead th {\n",
       "        text-align: right;\n",
       "    }\n",
       "</style>\n",
       "<table border=\"1\" class=\"dataframe\">\n",
       "  <thead>\n",
       "    <tr style=\"text-align: right;\">\n",
       "      <th></th>\n",
       "      <th>id</th>\n",
       "      <th>dos</th>\n",
       "      <th>code</th>\n",
       "      <th>codeDesc</th>\n",
       "      <th>type</th>\n",
       "      <th>value</th>\n",
       "    </tr>\n",
       "  </thead>\n",
       "  <tbody>\n",
       "    <tr>\n",
       "      <th>37316</th>\n",
       "      <td>15</td>\n",
       "      <td>2019-03-29</td>\n",
       "      <td>77202-0</td>\n",
       "      <td>Laboratory comment Report</td>\n",
       "      <td>lab</td>\n",
       "      <td>NaN</td>\n",
       "    </tr>\n",
       "    <tr>\n",
       "      <th>37331</th>\n",
       "      <td>15</td>\n",
       "      <td>2019-08-26</td>\n",
       "      <td>77202-0</td>\n",
       "      <td>Laboratory comment Report</td>\n",
       "      <td>lab</td>\n",
       "      <td>NaN</td>\n",
       "    </tr>\n",
       "  </tbody>\n",
       "</table>\n",
       "</div>"
      ],
      "text/plain": [
       "       id         dos     code                   codeDesc type  value\n",
       "37316  15  2019-03-29  77202-0  Laboratory comment Report  lab    NaN\n",
       "37331  15  2019-08-26  77202-0  Laboratory comment Report  lab    NaN"
      ]
     },
     "execution_count": 37,
     "metadata": {},
     "output_type": "execute_result"
    }
   ],
   "source": [
    "df_lab[df_lab['code']=='77202-0']"
   ]
  },
  {
   "cell_type": "code",
   "execution_count": 34,
   "id": "338ec6df-2915-419d-9370-52f6c3fdbc7a",
   "metadata": {},
   "outputs": [
    {
     "ename": "NameError",
     "evalue": "name 'a' is not defined",
     "output_type": "error",
     "traceback": [
      "\u001b[0;31m---------------------------------------------------------------------------\u001b[0m",
      "\u001b[0;31mNameError\u001b[0m                                 Traceback (most recent call last)",
      "Cell \u001b[0;32mIn[34], line 1\u001b[0m\n\u001b[0;32m----> 1\u001b[0m \u001b[43ma\u001b[49m\n",
      "\u001b[0;31mNameError\u001b[0m: name 'a' is not defined"
     ]
    }
   ],
   "source": [
    "a"
   ]
  },
  {
   "cell_type": "code",
   "execution_count": null,
   "id": "527907eb-1648-4505-baa3-01641b4fa2c9",
   "metadata": {},
   "outputs": [],
   "source": [
    "\"Chronic atrial fibrillation (I482) in [2019-06-02]\""
   ]
  },
  {
   "cell_type": "code",
   "execution_count": null,
   "id": "c230e22f-e26f-4192-9d1c-49228fed8bf1",
   "metadata": {},
   "outputs": [],
   "source": [
    "\"Chronic atrial fibrillation\" == \"Chronic atrial fibrillation\""
   ]
  },
  {
   "cell_type": "code",
   "execution_count": null,
   "id": "6075602a-02d6-4985-b17d-228ecb63417a",
   "metadata": {},
   "outputs": [],
   "source": [
    "response=\"\"\"[Here is the graph for the lab test \"Potassium SerPl-sCnc (2823-3)\":\n",
    "\n",
    "Filename: saved_plots/Potassium_SerPl-sCnc_(2823-3)_20241001_095823.png\n",
    "\n",
    "The graph shows the potassium levels over two dates:\n",
    "\n",
    "On 2019-05-01, the potassium level was 5.30 mmol/L.\n",
    "On 2019-08-29, the potassium level was 4.80 mmol/L.\n",
    "Interpretation:\n",
    "\n",
    "The potassium level decreased from 5.30 mmol/L to 4.80 mmol/L over the observed period.\n",
    "Both values are within the typical reference range for serum potassium, which is generally 3.5 to 5.0 mmol/L, but the initial value was slightly elevated. Monitoring potassium levels is important, especially given the patient's history of chronic kidney disease and hypertension, as these conditions can affect electrolyte balance.\n",
    "If you have any further questions or need additional information, please let me know!\"\"\""
   ]
  },
  {
   "cell_type": "code",
   "execution_count": null,
   "id": "cecb595b-eff1-47ed-bd92-ef0eb0b6bdbd",
   "metadata": {},
   "outputs": [],
   "source": [
    "import re\n",
    "image_paths = re.findall(r'saved_plots/[^()]+\\([^)]+\\)_\\d+_\\d+\\.png', response)\n",
    "print(image_paths)"
   ]
  },
  {
   "cell_type": "code",
   "execution_count": null,
   "id": "f686f6bd-ddc4-4ca5-8951-5dc2655216b3",
   "metadata": {},
   "outputs": [],
   "source": [
    "response"
   ]
  },
  {
   "cell_type": "code",
   "execution_count": null,
   "id": "77a05cea-d960-489f-862a-08f586a47516",
   "metadata": {},
   "outputs": [],
   "source": [
    "df_diag['code'].nunique()"
   ]
  },
  {
   "cell_type": "code",
   "execution_count": null,
   "id": "3520b14b-7e35-46a0-b0cb-3136e81b660f",
   "metadata": {},
   "outputs": [],
   "source": [
    "df_proc=df[df['type']=='proc']"
   ]
  },
  {
   "cell_type": "code",
   "execution_count": null,
   "id": "5659b7d0-3ae9-4380-b003-d9e5e6123715",
   "metadata": {},
   "outputs": [],
   "source": [
    "df_lab=df[df['type']=='lab']"
   ]
  },
  {
   "cell_type": "code",
   "execution_count": null,
   "id": "453f501b-2991-4524-b3d4-283921315b24",
   "metadata": {},
   "outputs": [],
   "source": [
    "df_rx=df[df['type']=='rx']"
   ]
  },
  {
   "cell_type": "code",
   "execution_count": null,
   "id": "40adb1ed-ea0a-4318-802e-1c2573b20864",
   "metadata": {},
   "outputs": [],
   "source": [
    "Glucose:\n",
    "\n",
    "Glucose SerPl-mCnc (2345-7) in [2019-05-01:139.999903, 2019-08-29:106.000190]\n",
    "Immunosuppressant:\n",
    "\n",
    "Tacrolimus Bld LC/MS/MS-mCnc (74097-7) in [2019-05-01:7.200005, 2019-08-29:4.299989]"
   ]
  },
  {
   "cell_type": "code",
   "execution_count": null,
   "id": "31f010f9-cfa3-4880-989f-c5a9f183ca1b",
   "metadata": {},
   "outputs": [],
   "source": [
    "df_lab[df_lab['code']=='74097-7']"
   ]
  },
  {
   "cell_type": "code",
   "execution_count": null,
   "id": "07908096-bd8b-4ce9-b41d-a8a0204e63d6",
   "metadata": {},
   "outputs": [],
   "source": [
    "df.columns"
   ]
  },
  {
   "cell_type": "code",
   "execution_count": null,
   "id": "eed27a6c-fed3-4499-9c4d-68a6171cbbae",
   "metadata": {},
   "outputs": [],
   "source": [
    "df"
   ]
  },
  {
   "cell_type": "code",
   "execution_count": null,
   "id": "2dd31e46-40d2-4f41-8da7-0306a0d8b421",
   "metadata": {},
   "outputs": [],
   "source": [
    "import numpy as np\n",
    "df['value']=np.round(df['value'],2)"
   ]
  },
  {
   "cell_type": "code",
   "execution_count": null,
   "id": "02532560-8d81-4b4e-9cde-041ea352e26c",
   "metadata": {},
   "outputs": [],
   "source": [
    "df"
   ]
  },
  {
   "cell_type": "code",
   "execution_count": null,
   "id": "5245c08e-0603-4286-ab6d-a4a1533c1094",
   "metadata": {},
   "outputs": [],
   "source": [
    "Anesthesia Procedures:\n",
    "\n",
    "Anesthesia for upper gastrointestinal endoscopic procedures, endoscope introduced proximal to duodenum; not otherwise specified (00731) in [2019-01-03]\n",
    "Anesthesia for procedures on nerves, muscles, tendons, fascia, and bursae of upper arm and elbow; not otherwise specified (01710) in [2019-06-04]"
   ]
  },
  {
   "cell_type": "code",
   "execution_count": null,
   "id": "1f06fd4f-e3ba-48a6-8f7f-2c7ae31d58e4",
   "metadata": {},
   "outputs": [],
   "source": [
    "df_proc[df_proc['code']=='43239']"
   ]
  },
  {
   "cell_type": "code",
   "execution_count": null,
   "id": "7f190a5a-0911-4690-809e-3cb419c843e0",
   "metadata": {},
   "outputs": [],
   "source": [
    "df_proc[df_proc['code']=='24105']"
   ]
  },
  {
   "cell_type": "code",
   "execution_count": null,
   "id": "a363098a-3290-4a25-adf7-2ab5465f053a",
   "metadata": {},
   "outputs": [],
   "source": [
    "Evaluation Results\n",
    "Prescription Medication Summary:\n",
    "\n",
    "Rx Category 1:\n",
    "\n",
    "Losartan (36150040) in [2019-03-08, 2019-06-06, 2019-09-07, 2019-12-06]\n",
    "Metoprolol (33200030) in [2019-04-08, 2019-05-07, 2019-06-06, 2019-07-06]\n",
    "Rx Category 2:\n",
    "\n",
    "Venlafaxine (58180090) in [2019-03-08, 2019-04-07, 2019-05-09]\n",
    "Sertraline (58160070) in [2019-05-29, 2019-06-22, 2019-07-14, 2019-10-06]\n",
    "Rx Category 3:\n",
    "\n",
    "Triamcinolone (90550085) in [2019-05-30]\n",
    "Fluticasone (90550068) in [2019-06-22]\n",
    "Tacrolimus (99404080) in [2019-09-06]\n",
    "Stand-alone Items:\n",
    "\n",
    "Penicillin Combination - Two Ingredient (01990002) in [2019-06-11]"
   ]
  },
  {
   "cell_type": "code",
   "execution_count": null,
   "id": "2fa3474d-5cd7-400c-b4e8-36b9cd3088d1",
   "metadata": {},
   "outputs": [],
   "source": [
    "df_rx[df_rx['code']=='01990002']"
   ]
  },
  {
   "cell_type": "code",
   "execution_count": null,
   "id": "8dd46ae8-dc8d-425d-a661-cf8b6c2adce6",
   "metadata": {},
   "outputs": [],
   "source": [
    "df_lab[df_lab['code']=='1759-0']"
   ]
  },
  {
   "cell_type": "code",
   "execution_count": null,
   "id": "da7c73d1-2936-4791-aa36-55855c015d7b",
   "metadata": {},
   "outputs": [],
   "source": [
    "Albumin/Glob SerPl (1759-0) in [2019-05-01:1.30, 2019-08-29:1.50] and [2019-06-02:1.40]"
   ]
  },
  {
   "cell_type": "code",
   "execution_count": null,
   "id": "bffe6814-51eb-4613-ae9d-5c5ee1c06557",
   "metadata": {},
   "outputs": [],
   "source": [
    "df_lab[df_lab['dos']=='2019-06-02']"
   ]
  },
  {
   "cell_type": "code",
   "execution_count": null,
   "id": "fab43fce-07da-4a14-8946-46848ef65707",
   "metadata": {},
   "outputs": [],
   "source": [
    "df_lab[df_lab['dos']=='2019-06-02']"
   ]
  },
  {
   "cell_type": "code",
   "execution_count": null,
   "id": "a159cc87-7292-454f-a8c6-82291c68124a",
   "metadata": {},
   "outputs": [],
   "source": [
    "s='/home/jovyan/vol-2/Roja/ds-ihan/v2/LLM_Agents/saved_plots/Sodium_SerPl-sCnc_20240926_141013.png'"
   ]
  },
  {
   "cell_type": "code",
   "execution_count": null,
   "id": "6c5626d9-a7cc-4834-9df2-43e664b67481",
   "metadata": {},
   "outputs": [],
   "source": []
  },
  {
   "cell_type": "code",
   "execution_count": null,
   "id": "450825b4-3afb-436c-8487-42e5b506e91a",
   "metadata": {},
   "outputs": [],
   "source": [
    "df_diag[df_diag['code']=='N183']"
   ]
  },
  {
   "cell_type": "code",
   "execution_count": null,
   "id": "93a2423e-951b-40bb-95e3-da67b58b9cf3",
   "metadata": {},
   "outputs": [],
   "source": [
    "df[df['type']=='lab']['id'].unique()"
   ]
  },
  {
   "cell_type": "code",
   "execution_count": null,
   "id": "af1531f4-24a6-498a-b260-fc71e11d9281",
   "metadata": {},
   "outputs": [],
   "source": [
    "df['id'].unique()"
   ]
  },
  {
   "cell_type": "code",
   "execution_count": null,
   "id": "e9b30d7e-36da-482a-b62e-420f4f635393",
   "metadata": {},
   "outputs": [],
   "source": []
  }
 ],
 "metadata": {
  "kernelspec": {
   "display_name": "ihan_env",
   "language": "python",
   "name": "ihan_env"
  },
  "language_info": {
   "codemirror_mode": {
    "name": "ipython",
    "version": 3
   },
   "file_extension": ".py",
   "mimetype": "text/x-python",
   "name": "python",
   "nbconvert_exporter": "python",
   "pygments_lexer": "ipython3",
   "version": "3.11.3"
  }
 },
 "nbformat": 4,
 "nbformat_minor": 5
}
