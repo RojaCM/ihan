{
 "cells": [
  {
   "cell_type": "code",
   "execution_count": null,
   "id": "73fc5aa2-a9fe-4a81-87db-00dd7c9d2939",
   "metadata": {},
   "outputs": [],
   "source": [
    "!python --version"
   ]
  },
  {
   "cell_type": "code",
   "execution_count": 1,
   "id": "96e23592-0942-4320-80a8-7f7999d6f178",
   "metadata": {},
   "outputs": [],
   "source": [
    "import pandas as pd"
   ]
  },
  {
   "cell_type": "code",
   "execution_count": 2,
   "id": "bb8cfcef-ec25-4b37-bcae-9781a864718b",
   "metadata": {},
   "outputs": [
    {
     "name": "stderr",
     "output_type": "stream",
     "text": [
      "/home/jovyan/tmp/ipykernel_373844/3347160452.py:1: DtypeWarning: Columns (4,5,6) have mixed types. Specify dtype option on import or set low_memory=False.\n",
      "  df=pd.read_csv('/home/jovyan/data/LLM/EMR_LLM_data_combo_2204mcids_NEW.csv')\n"
     ]
    }
   ],
   "source": [
    "df=pd.read_csv('/home/jovyan/data/LLM/EMR_LLM_data_combo_2204mcids_NEW.csv')"
   ]
  },
  {
   "cell_type": "code",
   "execution_count": 3,
   "id": "1a517ab3-5285-4278-aa69-ee03d217f35e",
   "metadata": {},
   "outputs": [
    {
     "data": {
      "text/html": [
       "<div>\n",
       "<style scoped>\n",
       "    .dataframe tbody tr th:only-of-type {\n",
       "        vertical-align: middle;\n",
       "    }\n",
       "\n",
       "    .dataframe tbody tr th {\n",
       "        vertical-align: top;\n",
       "    }\n",
       "\n",
       "    .dataframe thead th {\n",
       "        text-align: right;\n",
       "    }\n",
       "</style>\n",
       "<table border=\"1\" class=\"dataframe\">\n",
       "  <thead>\n",
       "    <tr style=\"text-align: right;\">\n",
       "      <th></th>\n",
       "      <th>ID</th>\n",
       "      <th>DOS</th>\n",
       "      <th>TYPE</th>\n",
       "      <th>CODE</th>\n",
       "      <th>VALUE</th>\n",
       "      <th>ABNORMAL_CD</th>\n",
       "      <th>CD_DESC</th>\n",
       "    </tr>\n",
       "  </thead>\n",
       "  <tbody>\n",
       "    <tr>\n",
       "      <th>0</th>\n",
       "      <td>33260</td>\n",
       "      <td>2019-10-23</td>\n",
       "      <td>EMR_Note</td>\n",
       "      <td>chief complaint</td>\n",
       "      <td>pre-op evaluation; hypertension. needs cx for ...</td>\n",
       "      <td>NaN</td>\n",
       "      <td>NaN</td>\n",
       "    </tr>\n",
       "    <tr>\n",
       "      <th>1</th>\n",
       "      <td>33260</td>\n",
       "      <td>2019-10-23</td>\n",
       "      <td>EMR_Note</td>\n",
       "      <td>past medical history</td>\n",
       "      <td>anemia of chronic disease. Percutaneous Corona...</td>\n",
       "      <td>NaN</td>\n",
       "      <td>NaN</td>\n",
       "    </tr>\n",
       "    <tr>\n",
       "      <th>2</th>\n",
       "      <td>33260</td>\n",
       "      <td>2019-11-16</td>\n",
       "      <td>EMR_Note</td>\n",
       "      <td>history of present illness</td>\n",
       "      <td>Pt is here for follow up from the hospital. Pt...</td>\n",
       "      <td>NaN</td>\n",
       "      <td>NaN</td>\n",
       "    </tr>\n",
       "    <tr>\n",
       "      <th>3</th>\n",
       "      <td>33260</td>\n",
       "      <td>2019-11-16</td>\n",
       "      <td>EMR_Note</td>\n",
       "      <td>physical exam</td>\n",
       "      <td>Cardiology Brief Exam. Basic Cardio PE:. HEENT...</td>\n",
       "      <td>NaN</td>\n",
       "      <td>NaN</td>\n",
       "    </tr>\n",
       "    <tr>\n",
       "      <th>4</th>\n",
       "      <td>33260</td>\n",
       "      <td>2019-11-16</td>\n",
       "      <td>EMR_Note</td>\n",
       "      <td>instructions</td>\n",
       "      <td>I10: Essential (primary) hypertension. 5: Hype...</td>\n",
       "      <td>NaN</td>\n",
       "      <td>NaN</td>\n",
       "    </tr>\n",
       "  </tbody>\n",
       "</table>\n",
       "</div>"
      ],
      "text/plain": [
       "      ID         DOS      TYPE                        CODE  \\\n",
       "0  33260  2019-10-23  EMR_Note             chief complaint   \n",
       "1  33260  2019-10-23  EMR_Note        past medical history   \n",
       "2  33260  2019-11-16  EMR_Note  history of present illness   \n",
       "3  33260  2019-11-16  EMR_Note               physical exam   \n",
       "4  33260  2019-11-16  EMR_Note                instructions   \n",
       "\n",
       "                                               VALUE ABNORMAL_CD CD_DESC  \n",
       "0  pre-op evaluation; hypertension. needs cx for ...         NaN     NaN  \n",
       "1  anemia of chronic disease. Percutaneous Corona...         NaN     NaN  \n",
       "2  Pt is here for follow up from the hospital. Pt...         NaN     NaN  \n",
       "3  Cardiology Brief Exam. Basic Cardio PE:. HEENT...         NaN     NaN  \n",
       "4  I10: Essential (primary) hypertension. 5: Hype...         NaN     NaN  "
      ]
     },
     "execution_count": 3,
     "metadata": {},
     "output_type": "execute_result"
    }
   ],
   "source": [
    "df.head()"
   ]
  },
  {
   "cell_type": "code",
   "execution_count": 4,
   "id": "8cd9b055-0adb-44ce-a81d-8217f864a5cb",
   "metadata": {},
   "outputs": [],
   "source": [
    "df.columns=df.columns.str.lower()"
   ]
  },
  {
   "cell_type": "code",
   "execution_count": 5,
   "id": "223e9a13-5182-4f85-a1ba-0f7fea0bcc68",
   "metadata": {},
   "outputs": [],
   "source": [
    "import numpy as np\n",
    "df=df[~df['type'].isin(['EMR_Note'])]\n",
    "df['value'] = pd.to_numeric(df['value'], errors='coerce')\n",
    "df['value']=np.round(df['value'],2)"
   ]
  },
  {
   "cell_type": "code",
   "execution_count": 11,
   "id": "2eb4feb6-1d6a-48af-a618-e858468ba801",
   "metadata": {},
   "outputs": [],
   "source": [
    "id1=df[df['id']==6749]"
   ]
  },
  {
   "cell_type": "code",
   "execution_count": 12,
   "id": "f3312944-231a-4c4a-8350-c717b2a2e55c",
   "metadata": {},
   "outputs": [
    {
     "data": {
      "text/plain": [
       "(675, 7)"
      ]
     },
     "execution_count": 12,
     "metadata": {},
     "output_type": "execute_result"
    }
   ],
   "source": [
    "id1.shape"
   ]
  },
  {
   "cell_type": "code",
   "execution_count": 8,
   "id": "4ae8f0ff-0812-4945-9832-a621a26f346f",
   "metadata": {},
   "outputs": [],
   "source": [
    "diag=id1[id1['type']=='diag']"
   ]
  },
  {
   "cell_type": "code",
   "execution_count": 39,
   "id": "09c64108-f34e-4564-9994-735cd447cd46",
   "metadata": {},
   "outputs": [
    {
     "ename": "SyntaxError",
     "evalue": "leading zeros in decimal integer literals are not permitted; use an 0o prefix for octal integers (4130845044.py, line 3)",
     "output_type": "error",
     "traceback": [
      "\u001b[0;36m  Cell \u001b[0;32mIn[39], line 3\u001b[0;36m\u001b[0m\n\u001b[0;31m    Diagnosis Code: E119, Date: 2017-05-26\u001b[0m\n\u001b[0m                                     ^\u001b[0m\n\u001b[0;31mSyntaxError\u001b[0m\u001b[0;31m:\u001b[0m leading zeros in decimal integer literals are not permitted; use an 0o prefix for octal integers\n"
     ]
    }
   ],
   "source": [
    "9. Type 2 Diabetes Mellitus Without Complications\n",
    "Diagnostic Evidence:\n",
    "Diagnosis Code: E119, Date: 2017-05-26\n",
    "Lab Test Results:\n",
    "HbA1c MFr Bld: 5.70 H (2017-05-26)\n",
    "Explanation:\n",
    "The diagnosis of Type 2 Diabetes Mellitus is supported by elevated HbA1c levels and the presence of the diagnostic code."
   ]
  },
  {
   "cell_type": "code",
   "execution_count": 42,
   "id": "207e4970-cb6e-4d23-964b-1fe083add1cd",
   "metadata": {},
   "outputs": [
    {
     "data": {
      "text/html": [
       "<div>\n",
       "<style scoped>\n",
       "    .dataframe tbody tr th:only-of-type {\n",
       "        vertical-align: middle;\n",
       "    }\n",
       "\n",
       "    .dataframe tbody tr th {\n",
       "        vertical-align: top;\n",
       "    }\n",
       "\n",
       "    .dataframe thead th {\n",
       "        text-align: right;\n",
       "    }\n",
       "</style>\n",
       "<table border=\"1\" class=\"dataframe\">\n",
       "  <thead>\n",
       "    <tr style=\"text-align: right;\">\n",
       "      <th></th>\n",
       "      <th>id</th>\n",
       "      <th>dos</th>\n",
       "      <th>type</th>\n",
       "      <th>code</th>\n",
       "      <th>value</th>\n",
       "      <th>abnormal_cd</th>\n",
       "      <th>cd_desc</th>\n",
       "    </tr>\n",
       "  </thead>\n",
       "  <tbody>\n",
       "    <tr>\n",
       "      <th>345001</th>\n",
       "      <td>15163</td>\n",
       "      <td>2019-08-26</td>\n",
       "      <td>diag</td>\n",
       "      <td>R9431</td>\n",
       "      <td>NaN</td>\n",
       "      <td>NaN</td>\n",
       "      <td>ABNORMAL ELECTROCARDIOGRAM</td>\n",
       "    </tr>\n",
       "    <tr>\n",
       "      <th>345005</th>\n",
       "      <td>15163</td>\n",
       "      <td>2019-09-10</td>\n",
       "      <td>diag</td>\n",
       "      <td>R9431</td>\n",
       "      <td>NaN</td>\n",
       "      <td>NaN</td>\n",
       "      <td>ABNORMAL ELECTROCARDIOGRAM</td>\n",
       "    </tr>\n",
       "  </tbody>\n",
       "</table>\n",
       "</div>"
      ],
      "text/plain": [
       "           id         dos  type   code  value abnormal_cd  \\\n",
       "345001  15163  2019-08-26  diag  R9431    NaN         NaN   \n",
       "345005  15163  2019-09-10  diag  R9431    NaN         NaN   \n",
       "\n",
       "                           cd_desc  \n",
       "345001  ABNORMAL ELECTROCARDIOGRAM  \n",
       "345005  ABNORMAL ELECTROCARDIOGRAM  "
      ]
     },
     "execution_count": 42,
     "metadata": {},
     "output_type": "execute_result"
    }
   ],
   "source": [
    "diag[diag['code']=='R9431']"
   ]
  },
  {
   "cell_type": "code",
   "execution_count": null,
   "id": "d1ccc0dd-51fa-4375-a9ee-3286203175bf",
   "metadata": {},
   "outputs": [],
   "source": []
  }
 ],
 "metadata": {
  "kernelspec": {
   "display_name": "Python [conda env:jovyan-ihan_env]",
   "language": "python",
   "name": "conda-env-jovyan-ihan_env-py"
  },
  "language_info": {
   "codemirror_mode": {
    "name": "ipython",
    "version": 3
   },
   "file_extension": ".py",
   "mimetype": "text/x-python",
   "name": "python",
   "nbconvert_exporter": "python",
   "pygments_lexer": "ipython3",
   "version": "3.11.3"
  }
 },
 "nbformat": 4,
 "nbformat_minor": 5
}
