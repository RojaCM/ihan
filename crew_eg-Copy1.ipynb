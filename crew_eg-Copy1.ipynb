{
 "cells": [
  {
   "cell_type": "code",
   "execution_count": 1,
   "id": "39af701a-09db-4b33-a171-def0ffd9dd20",
   "metadata": {},
   "outputs": [
    {
     "name": "stderr",
     "output_type": "stream",
     "text": [
      "/home/jovyan/.conda/envs/agents_env/lib/python3.10/site-packages/tqdm/auto.py:21: TqdmWarning: IProgress not found. Please update jupyter and ipywidgets. See https://ipywidgets.readthedocs.io/en/stable/user_install.html\n",
      "  from .autonotebook import tqdm as notebook_tqdm\n",
      "/home/jovyan/.conda/envs/agents_env/lib/python3.10/site-packages/pydantic/_internal/_config.py:341: UserWarning: Valid config keys have changed in V2:\n",
      "* 'allow_population_by_field_name' has been renamed to 'populate_by_name'\n",
      "* 'smart_union' has been removed\n",
      "  warnings.warn(message, UserWarning)\n"
     ]
    }
   ],
   "source": [
    "import gradio as gr\n",
    "import os\n",
    "import time\n",
    "from crewai import Agent, Task, Crew, Process\n",
    "from crewai_tools import ScrapeWebsiteTool, SerperDevTool\n",
    "from crewai_tools import tool\n",
    "\n",
    "#from docx import Document\n",
    "from io import BytesIO\n",
    "import base64\n",
    "\n",
    "import pandas as pd\n",
    "from IPython.display import Markdown, display\n",
    "\n",
    "from dotenv import load_dotenv\n",
    "#load_dotenv(\"./.env\")\n",
    "load_dotenv(\"/home/jovyan/.env\")\n",
    "\n",
    "os.environ[\"OPENAI_API_KEY\"] = os.environ.get(\"OPENAI_API_KEY\")\n",
    "os.environ[\"SLIP_AUTH_URL\"] = os.environ.get(\"SLIP_AUTH_URL\")\n",
    "os.environ[\"SLIP_USERNAME\"] =os.environ.get(\"SLIP_USERNAME\")\n",
    "os.environ[\"SLIP_PASSWORD\"] =  os.environ.get(\"SLIP_PASSWORD\")\n",
    "os.environ[\"SLIP_CLIENT_ID\"]= os.environ.get(\"SLIP_CLIENT_ID\")\n",
    "os.environ[\"SLIP_APP_NAME\"]=os.environ.get(\"SLIP_APP_NAME\")\n",
    "os.environ[\"SERPER_API_KEY\"] = \"\""
   ]
  },
  {
   "cell_type": "code",
   "execution_count": 2,
   "id": "1ca8e732-50fd-448a-b6f6-91db358286a5",
   "metadata": {},
   "outputs": [],
   "source": [
    "from langchain_openai import ChatOpenAI"
   ]
  },
  {
   "cell_type": "code",
   "execution_count": 3,
   "id": "5e6b4244-4e43-4432-80c6-516d129dc85e",
   "metadata": {},
   "outputs": [],
   "source": [
    "# from llm_utils import get_llm\n",
    "# llm = get_llm('gpt-4o-0513')"
   ]
  },
  {
   "cell_type": "code",
   "execution_count": 4,
   "id": "23c39c65-d0ba-4a9a-997b-1ec504367dc4",
   "metadata": {},
   "outputs": [],
   "source": [
    "llm=ChatOpenAI(model='gpt-4o-0513')"
   ]
  },
  {
   "cell_type": "code",
   "execution_count": 5,
   "id": "37ac2a36-ccf1-4dd5-831f-b8ac9df0c099",
   "metadata": {},
   "outputs": [],
   "source": [
    "search_tool = SerperDevTool()\n",
    "scrape_tool = ScrapeWebsiteTool()"
   ]
  },
  {
   "cell_type": "markdown",
   "id": "8e64f4ca-8fca-41e7-b31b-5c3747b07e97",
   "metadata": {},
   "source": [
    "## DEFINE AGENTS"
   ]
  },
  {
   "cell_type": "code",
   "execution_count": 6,
   "id": "dd251414-ed03-40ea-9026-398e34e572e9",
   "metadata": {},
   "outputs": [],
   "source": [
    "diagnostician = Agent(\n",
    "    role=\"Medical Diagnostician\",\n",
    "    goal=\"Analyze patient symptoms and medical history to provide a preliminary diagnosis.\",\n",
    "    backstory=\"This agent specializes in diagnosing medical conditions based on patient-reported symptoms and medical history. It uses advanced algorithms and medical knowledge to identify potential health issues.\",\n",
    "    verbose=True,\n",
    "    allow_delegation=False,\n",
    "    tools=[search_tool, scrape_tool],\n",
    "    llm=llm\n",
    ")\n",
    "\n",
    "treatment_advisor = Agent(\n",
    "    role=\"Treatment Advisor\",\n",
    "    goal=\"Recommend appropriate treatment plans based on the diagnosis provided by the Medical Diagnostician.\",\n",
    "    backstory=\"This agent specializes in creating treatment plans tailored to individual patient needs. It considers the diagnosis, patient history, and current best practices in medicine to recommend effective treatments.\",\n",
    "    verbose=True,\n",
    "    allow_delegation=False,\n",
    "    tools=[search_tool, scrape_tool],\n",
    "    llm=llm\n",
    ")\n"
   ]
  },
  {
   "cell_type": "markdown",
   "id": "927e8d91-44dc-45a1-89ac-f935b72920b3",
   "metadata": {},
   "source": [
    "## DEFINE TASKS "
   ]
  },
  {
   "cell_type": "code",
   "execution_count": 7,
   "id": "76afe4a3-fb0b-43b2-a262-2185a3184a01",
   "metadata": {},
   "outputs": [],
   "source": [
    "def create_tasks(symptoms, medical_history):\n",
    "    diagnose_task = Task(\n",
    "        description=(\n",
    "            \"1. Analyze the patient's symptoms ({symptoms}) and medical history ({medical_history}).\\n\"\n",
    "            \"2. Provide a preliminary diagnosis with possible conditions based on the provided information.\\n\"\n",
    "            \"3. Limit the diagnosis to the most likely conditions.\"\n",
    "        ),\n",
    "        expected_output=\"A preliminary diagnosis with a list of possible conditions.\",\n",
    "        output_file=\"diagnosis.md\",\n",
    "        agent=diagnostician)\n",
    "\n",
    "    treatment_task = Task(\n",
    "        description=(\n",
    "            \"1. Based on the diagnosis, recommend appropriate treatment plans step by step.\\n\"\n",
    "            \"2. Consider the patient's medical history ({medical_history}) and current symptoms ({symptoms}).\\n\"\n",
    "            \"3. Provide detailed treatment recommendations, including medications, lifestyle changes, and follow-up care.\"\n",
    "        ),\n",
    "        expected_output=\"A comprehensive treatment plan tailored to the patient's needs.\",\n",
    "        output_file=\"treatment_plan.md\",\n",
    "        agent=treatment_advisor)\n",
    "    \n",
    "    return [diagnose_task, treatment_task]"
   ]
  },
  {
   "cell_type": "code",
   "execution_count": 8,
   "id": "4f97ae49-a795-4daf-9d73-6e05f4aa3570",
   "metadata": {},
   "outputs": [],
   "source": [
    "# # Create Crew\n",
    "# crew = Crew(\n",
    "#     agents=[diagnostician, treatment_advisor],\n",
    "#     tasks=[diagnose_task, treatment_task],\n",
    "#     verbose=2\n",
    "# )"
   ]
  },
  {
   "cell_type": "code",
   "execution_count": 9,
   "id": "ed3568e8-f16f-4475-9dba-18dbd796b2fc",
   "metadata": {},
   "outputs": [],
   "source": [
    "# Function to run the crew and get results\n",
    "def run_crew(symptoms, medical_history):\n",
    "    tasks = create_tasks(symptoms, medical_history)\n",
    "    crew = Crew(\n",
    "        agents=[diagnostician, treatment_advisor],\n",
    "        tasks=tasks,\n",
    "        verbose=True\n",
    "    )\n",
    "    \n",
    "    inputs = {\"symptoms\": symptoms, \"medical_history\": medical_history}\n",
    "    result = crew.kickoff(inputs)\n",
    "    \n",
    "    # Read the output files\n",
    "    with open(\"diagnosis.md\", \"r\") as f:\n",
    "        diagnosis = f.read()\n",
    "    with open(\"treatment_plan.md\", \"r\") as f:\n",
    "        treatment_plan = f.read()\n",
    "    \n",
    "    return diagnosis, treatment_plan"
   ]
  },
  {
   "cell_type": "code",
   "execution_count": 10,
   "id": "bd2a9c45-5959-4b48-acc7-5f92bcf04e9f",
   "metadata": {},
   "outputs": [],
   "source": [
    "# Gradio interface\n",
    "def gradio_interface(symptoms, medical_history):\n",
    "    diagnosis, treatment_plan = run_crew(symptoms, medical_history)\n",
    "    return diagnosis, treatment_plan\n",
    "\n",
    "agent = gr.Interface(\n",
    "    fn=gradio_interface,\n",
    "    inputs=[\n",
    "        gr.Textbox(label=\"Symptoms\"),\n",
    "        gr.Textbox(label=\"Medical History\")\n",
    "    ],\n",
    "    outputs=[\n",
    "        gr.Markdown(label=\"Diagnosis\"),\n",
    "        gr.Markdown(label=\"Treatment Plan\")\n",
    "    ],\n",
    "    title=\"Medical Diagnosis and Treatment Recommendation\",\n",
    "    description=\"Enter patient symptoms and medical history to get a diagnosis and treatment plan.\"\n",
    ")\n"
   ]
  },
  {
   "cell_type": "code",
   "execution_count": 11,
   "id": "8b282836-75ec-4de2-9cb0-d1e6b588b97a",
   "metadata": {},
   "outputs": [
    {
     "name": "stdout",
     "output_type": "stream",
     "text": [
      "Running on local URL:  http://127.0.0.1:7860\n",
      "Running on public URL: https://666c5816405ae3f7ec.gradio.live\n",
      "\n",
      "This share link expires in 72 hours. For free permanent hosting and GPU upgrades, run `gradio deploy` from Terminal to deploy to Spaces (https://huggingface.co/spaces)\n"
     ]
    },
    {
     "data": {
      "text/html": [
       "<div><iframe src=\"https://666c5816405ae3f7ec.gradio.live\" width=\"100%\" height=\"500\" allow=\"autoplay; camera; microphone; clipboard-read; clipboard-write;\" frameborder=\"0\" allowfullscreen></iframe></div>"
      ],
      "text/plain": [
       "<IPython.core.display.HTML object>"
      ]
     },
     "metadata": {},
     "output_type": "display_data"
    },
    {
     "data": {
      "text/plain": []
     },
     "execution_count": 11,
     "metadata": {},
     "output_type": "execute_result"
    }
   ],
   "source": [
    "agent.launch(share=True)"
   ]
  },
  {
   "cell_type": "code",
   "execution_count": 12,
   "id": "5d7e7b38-262c-42b3-ac93-9d6e72cb26bf",
   "metadata": {},
   "outputs": [],
   "source": [
    "# inputs={\"symptoms\":\"cold & fever\",\n",
    "#        \"medical_history\": \"jaundice\"}"
   ]
  },
  {
   "cell_type": "code",
   "execution_count": 13,
   "id": "7dcd2013-8eb9-4eb2-955e-3c5f50f23b14",
   "metadata": {},
   "outputs": [],
   "source": [
    "# result = crew.kickoff(inputs)"
   ]
  },
  {
   "cell_type": "code",
   "execution_count": null,
   "id": "6199e837-3605-488e-9313-3574348db6c4",
   "metadata": {},
   "outputs": [],
   "source": []
  },
  {
   "cell_type": "code",
   "execution_count": 14,
   "id": "33a73612-0972-461f-b7e3-00af7c81c2ba",
   "metadata": {},
   "outputs": [],
   "source": [
    "#display(Markdown(\"./treatment_plan.md\"))"
   ]
  },
  {
   "cell_type": "code",
   "execution_count": null,
   "id": "02b44b4c-f1bb-4f08-a131-860ae9983481",
   "metadata": {},
   "outputs": [],
   "source": []
  }
 ],
 "metadata": {
  "kernelspec": {
   "display_name": "AGENTS_ENV",
   "language": "python",
   "name": "agents_env"
  },
  "language_info": {
   "codemirror_mode": {
    "name": "ipython",
    "version": 3
   },
   "file_extension": ".py",
   "mimetype": "text/x-python",
   "name": "python",
   "nbconvert_exporter": "python",
   "pygments_lexer": "ipython3",
   "version": "3.10.12"
  }
 },
 "nbformat": 4,
 "nbformat_minor": 5
}
